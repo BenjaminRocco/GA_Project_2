{
 "cells": [
  {
   "cell_type": "code",
   "execution_count": 11,
   "id": "5bfc36b3-b765-4b18-a892-b5f9c94811be",
   "metadata": {},
   "outputs": [],
   "source": [
    "# README FIRST : This it the modeling and training section from `MainCodingFile.ipynb`\n",
    "import pandas as pd\n",
    "import numpy as np\n",
    "import matplotlib.pyplot as plt\n",
    "from sklearn import metrics\n",
    "import seaborn as sns\n",
    "from sklearn.linear_model import LinearRegression, Ridge, RidgeCV, Lasso, LassoCV, ElasticNet\n",
    "from sklearn.preprocessing import PolynomialFeatures, StandardScaler\n",
    "from sklearn.preprocessing import OneHotEncoder\n",
    "import warnings\n",
    "from sklearn.model_selection import train_test_split, cross_val_score\n",
    "from sklearn.metrics import mean_absolute_error, mean_squared_error\n",
    "import warnings\n",
    "warnings.simplefilter(action='ignore', category=FutureWarning);\n",
    "from itertools import cycle\n",
    "\n",
    "%matplotlib inline"
   ]
  },
  {
   "cell_type": "code",
   "execution_count": 12,
   "id": "25d2281f-7341-4d9b-98e8-cb3a8d538b24",
   "metadata": {},
   "outputs": [
    {
     "name": "stderr",
     "output_type": "stream",
     "text": [
      "/var/folders/zt/j17k7wr12p35myvz_rgf161h0000gn/T/ipykernel_82701/521886115.py:2: DtypeWarning: Columns (7) have mixed types. Specify dtype option on import or set low_memory=False.\n",
      "  df = pd.read_csv('../datasets/cleaned_training_data.csv')\n"
     ]
    },
    {
     "data": {
      "text/plain": [
       "(2051, 306)"
      ]
     },
     "execution_count": 12,
     "metadata": {},
     "output_type": "execute_result"
    }
   ],
   "source": [
    "# train\n",
    "df = pd.read_csv('../datasets/cleaned_training_data.csv')\n",
    "df.shape"
   ]
  },
  {
   "cell_type": "code",
   "execution_count": 13,
   "id": "94c73e05-b5b1-4d73-bd56-a2e54a7120f2",
   "metadata": {},
   "outputs": [
    {
     "data": {
      "text/plain": [
       "(878, 288)"
      ]
     },
     "execution_count": 13,
     "metadata": {},
     "output_type": "execute_result"
    }
   ],
   "source": [
    "# test\n",
    "kaggle_data = pd.read_csv('../datasets/cleaned_testing_data.csv')\n",
    "kaggle_data.shape"
   ]
  },
  {
   "cell_type": "markdown",
   "id": "500a767f-0dc6-442b-821a-fde278edbf8f",
   "metadata": {},
   "source": [
    "## Training and Modeling Section With `Train.csv` file imported as `df`"
   ]
  },
  {
   "cell_type": "code",
   "execution_count": 14,
   "id": "7e38a3c4-fdc2-479f-934f-b0ddc27c1a47",
   "metadata": {},
   "outputs": [],
   "source": [
    "features = ['Overall Qual', 'Gr Liv Area', 'Garage Area', 'Garage Cars','Total Bsmt SF',\n",
    "            '1st Flr SF','Year Built','Year Remod/Add','Full Bath','Garage Yr Blt','TotRms AbvGrd',\n",
    "            'Mas Vnr Area','Fireplaces','BsmtFin SF 1','Wood Deck SF','Open Porch SF',\n",
    "            'After 2000','Exter Qual','Overall Qual','Gr Liv Area Times Garage Area',\n",
    "            'Kitchen Qual_Ex','Kitchen Qual_Fa','Kitchen Qual_Gd','Kitchen Qual_TA','Total Bsmt SF Times 1st Flr SF',\n",
    "            'Heating QC_Ex','Heating QC_Fa','Heating QC_Gd','Heating QC_TA','1st Flr SF Times 2nd Flr SF',\n",
    "            'Neighborhood_NridgHt','Neighborhood_Timber','Bsmt Full Bath','Neighborhood_StoneBr',\n",
    "            'Neighborhood_Somerst','Neighborhood_NoRidge',\n",
    "            'Not Kitchen Qual_TA','Not Heating QC_TA','Not Neighborhood_OldTown'\n",
    "           ]\n",
    "\n",
    "\n",
    "\n",
    "X = df[features]\n",
    "y = df['SalePrice']\n",
    "\n",
    "X_train, X_test, y_train, y_test = train_test_split(X, y, random_state=42,\n",
    "                                                    train_size=0.90)\n"
   ]
  },
  {
   "cell_type": "markdown",
   "id": "b40ba164-080f-4a6a-b430-2ae2c74c5ded",
   "metadata": {},
   "source": [
    "### Null Model prediction"
   ]
  },
  {
   "cell_type": "code",
   "execution_count": 15,
   "id": "01d43b2a-c8f8-4ccb-b1b2-f80fc46233e5",
   "metadata": {},
   "outputs": [],
   "source": [
    "predict_baseline = np.mean(y_train)"
   ]
  },
  {
   "cell_type": "code",
   "execution_count": 16,
   "id": "b86c1382-3040-4137-b1ec-204653d8c917",
   "metadata": {},
   "outputs": [
    {
     "data": {
      "text/plain": [
       "182064.33983739838"
      ]
     },
     "execution_count": 16,
     "metadata": {},
     "output_type": "execute_result"
    }
   ],
   "source": [
    "predict_baseline"
   ]
  },
  {
   "cell_type": "markdown",
   "id": "1f1afe0f-5100-4e34-8137-2c69c8f228e4",
   "metadata": {},
   "source": [
    "### This is the mean of housing prices from the training data for our model. "
   ]
  },
  {
   "cell_type": "markdown",
   "id": "2c4e4b22",
   "metadata": {},
   "source": [
    "##### Create an array with same dimensions as test to find metrics of our base model."
   ]
  },
  {
   "cell_type": "code",
   "execution_count": 17,
   "id": "a0f19998",
   "metadata": {},
   "outputs": [],
   "source": [
    "y_pred_base = np.full_like(y_test, 182064.33983739838)"
   ]
  },
  {
   "cell_type": "code",
   "execution_count": 18,
   "id": "72e6b83e",
   "metadata": {},
   "outputs": [
    {
     "data": {
      "text/plain": [
       "5922129689.684466"
      ]
     },
     "execution_count": 18,
     "metadata": {},
     "output_type": "execute_result"
    }
   ],
   "source": [
    "mean_squared_error(y_test, y_pred_base)"
   ]
  },
  {
   "cell_type": "code",
   "execution_count": 19,
   "id": "30d797b3",
   "metadata": {},
   "outputs": [
    {
     "name": "stdout",
     "output_type": "stream",
     "text": [
      "RMSE Ridge | 76955.37466405102\n"
     ]
    }
   ],
   "source": [
    "print(f\"RMSE Ridge | {np.sqrt(mean_squared_error(y_test, y_pred_base))}\")"
   ]
  },
  {
   "cell_type": "markdown",
   "id": "344abd6a",
   "metadata": {},
   "source": [
    "### We can do better than that! Let us begin the modeling process! "
   ]
  },
  {
   "cell_type": "markdown",
   "id": "90e2afa1",
   "metadata": {},
   "source": [
    "#### Scale Values"
   ]
  },
  {
   "cell_type": "code",
   "execution_count": 20,
   "id": "74ef217a-5c20-4f95-a1af-1d18c01d33e6",
   "metadata": {},
   "outputs": [],
   "source": [
    "ss = StandardScaler()\n",
    "\n",
    "X_train = ss.fit_transform(X_train)\n",
    "\n",
    "X_test = ss.transform(X_test)"
   ]
  },
  {
   "cell_type": "markdown",
   "id": "bf0a735a",
   "metadata": {},
   "source": [
    "##### Check for null values - recall we filled all nulls with median values!"
   ]
  },
  {
   "cell_type": "code",
   "execution_count": 21,
   "id": "f593cf39-50cb-4004-9ff2-9d465aac3ce7",
   "metadata": {},
   "outputs": [
    {
     "data": {
      "text/plain": [
       "Overall Qual                      0\n",
       "Gr Liv Area                       0\n",
       "Garage Area                       0\n",
       "Garage Cars                       0\n",
       "Total Bsmt SF                     0\n",
       "1st Flr SF                        0\n",
       "Year Built                        0\n",
       "Year Remod/Add                    0\n",
       "Full Bath                         0\n",
       "Garage Yr Blt                     0\n",
       "TotRms AbvGrd                     0\n",
       "Mas Vnr Area                      0\n",
       "Fireplaces                        0\n",
       "BsmtFin SF 1                      0\n",
       "Wood Deck SF                      0\n",
       "Open Porch SF                     0\n",
       "After 2000                        0\n",
       "Exter Qual                        0\n",
       "Overall Qual                      0\n",
       "Gr Liv Area Times Garage Area     0\n",
       "Kitchen Qual_Ex                   0\n",
       "Kitchen Qual_Fa                   0\n",
       "Kitchen Qual_Gd                   0\n",
       "Kitchen Qual_TA                   0\n",
       "Total Bsmt SF Times 1st Flr SF    0\n",
       "Heating QC_Ex                     0\n",
       "Heating QC_Fa                     0\n",
       "Heating QC_Gd                     0\n",
       "Heating QC_TA                     0\n",
       "1st Flr SF Times 2nd Flr SF       0\n",
       "Neighborhood_NridgHt              0\n",
       "Neighborhood_Timber               0\n",
       "Bsmt Full Bath                    0\n",
       "Neighborhood_StoneBr              0\n",
       "Neighborhood_Somerst              0\n",
       "Neighborhood_NoRidge              0\n",
       "Not Kitchen Qual_TA               0\n",
       "Not Heating QC_TA                 0\n",
       "Not Neighborhood_OldTown          0\n",
       "dtype: int64"
      ]
     },
     "execution_count": 21,
     "metadata": {},
     "output_type": "execute_result"
    }
   ],
   "source": [
    "df[features].isna().sum()"
   ]
  },
  {
   "cell_type": "code",
   "execution_count": 22,
   "id": "2eedb41d-6606-4e8f-a593-6ab3cfb30a2a",
   "metadata": {},
   "outputs": [
    {
     "data": {
      "text/html": [
       "<style>#sk-container-id-1 {color: black;}#sk-container-id-1 pre{padding: 0;}#sk-container-id-1 div.sk-toggleable {background-color: white;}#sk-container-id-1 label.sk-toggleable__label {cursor: pointer;display: block;width: 100%;margin-bottom: 0;padding: 0.3em;box-sizing: border-box;text-align: center;}#sk-container-id-1 label.sk-toggleable__label-arrow:before {content: \"▸\";float: left;margin-right: 0.25em;color: #696969;}#sk-container-id-1 label.sk-toggleable__label-arrow:hover:before {color: black;}#sk-container-id-1 div.sk-estimator:hover label.sk-toggleable__label-arrow:before {color: black;}#sk-container-id-1 div.sk-toggleable__content {max-height: 0;max-width: 0;overflow: hidden;text-align: left;background-color: #f0f8ff;}#sk-container-id-1 div.sk-toggleable__content pre {margin: 0.2em;color: black;border-radius: 0.25em;background-color: #f0f8ff;}#sk-container-id-1 input.sk-toggleable__control:checked~div.sk-toggleable__content {max-height: 200px;max-width: 100%;overflow: auto;}#sk-container-id-1 input.sk-toggleable__control:checked~label.sk-toggleable__label-arrow:before {content: \"▾\";}#sk-container-id-1 div.sk-estimator input.sk-toggleable__control:checked~label.sk-toggleable__label {background-color: #d4ebff;}#sk-container-id-1 div.sk-label input.sk-toggleable__control:checked~label.sk-toggleable__label {background-color: #d4ebff;}#sk-container-id-1 input.sk-hidden--visually {border: 0;clip: rect(1px 1px 1px 1px);clip: rect(1px, 1px, 1px, 1px);height: 1px;margin: -1px;overflow: hidden;padding: 0;position: absolute;width: 1px;}#sk-container-id-1 div.sk-estimator {font-family: monospace;background-color: #f0f8ff;border: 1px dotted black;border-radius: 0.25em;box-sizing: border-box;margin-bottom: 0.5em;}#sk-container-id-1 div.sk-estimator:hover {background-color: #d4ebff;}#sk-container-id-1 div.sk-parallel-item::after {content: \"\";width: 100%;border-bottom: 1px solid gray;flex-grow: 1;}#sk-container-id-1 div.sk-label:hover label.sk-toggleable__label {background-color: #d4ebff;}#sk-container-id-1 div.sk-serial::before {content: \"\";position: absolute;border-left: 1px solid gray;box-sizing: border-box;top: 0;bottom: 0;left: 50%;z-index: 0;}#sk-container-id-1 div.sk-serial {display: flex;flex-direction: column;align-items: center;background-color: white;padding-right: 0.2em;padding-left: 0.2em;position: relative;}#sk-container-id-1 div.sk-item {position: relative;z-index: 1;}#sk-container-id-1 div.sk-parallel {display: flex;align-items: stretch;justify-content: center;background-color: white;position: relative;}#sk-container-id-1 div.sk-item::before, #sk-container-id-1 div.sk-parallel-item::before {content: \"\";position: absolute;border-left: 1px solid gray;box-sizing: border-box;top: 0;bottom: 0;left: 50%;z-index: -1;}#sk-container-id-1 div.sk-parallel-item {display: flex;flex-direction: column;z-index: 1;position: relative;background-color: white;}#sk-container-id-1 div.sk-parallel-item:first-child::after {align-self: flex-end;width: 50%;}#sk-container-id-1 div.sk-parallel-item:last-child::after {align-self: flex-start;width: 50%;}#sk-container-id-1 div.sk-parallel-item:only-child::after {width: 0;}#sk-container-id-1 div.sk-dashed-wrapped {border: 1px dashed gray;margin: 0 0.4em 0.5em 0.4em;box-sizing: border-box;padding-bottom: 0.4em;background-color: white;}#sk-container-id-1 div.sk-label label {font-family: monospace;font-weight: bold;display: inline-block;line-height: 1.2em;}#sk-container-id-1 div.sk-label-container {text-align: center;}#sk-container-id-1 div.sk-container {/* jupyter's `normalize.less` sets `[hidden] { display: none; }` but bootstrap.min.css set `[hidden] { display: none !important; }` so we also need the `!important` here to be able to override the default hidden behavior on the sphinx rendered scikit-learn.org. See: https://github.com/scikit-learn/scikit-learn/issues/21755 */display: inline-block !important;position: relative;}#sk-container-id-1 div.sk-text-repr-fallback {display: none;}</style><div id=\"sk-container-id-1\" class=\"sk-top-container\"><div class=\"sk-text-repr-fallback\"><pre>LinearRegression()</pre><b>In a Jupyter environment, please rerun this cell to show the HTML representation or trust the notebook. <br />On GitHub, the HTML representation is unable to render, please try loading this page with nbviewer.org.</b></div><div class=\"sk-container\" hidden><div class=\"sk-item\"><div class=\"sk-estimator sk-toggleable\"><input class=\"sk-toggleable__control sk-hidden--visually\" id=\"sk-estimator-id-1\" type=\"checkbox\" checked><label for=\"sk-estimator-id-1\" class=\"sk-toggleable__label sk-toggleable__label-arrow\">LinearRegression</label><div class=\"sk-toggleable__content\"><pre>LinearRegression()</pre></div></div></div></div></div>"
      ],
      "text/plain": [
       "LinearRegression()"
      ]
     },
     "execution_count": 22,
     "metadata": {},
     "output_type": "execute_result"
    }
   ],
   "source": [
    "# Instantiate a linear regression model.\n",
    "linmod = LinearRegression()\n",
    "\n",
    "# Fit our linear regression model to the training data.\n",
    "linmod.fit(X_train,y_train)"
   ]
  },
  {
   "cell_type": "code",
   "execution_count": 23,
   "id": "00853a24-5f30-457c-bb94-c9052f1350c1",
   "metadata": {},
   "outputs": [],
   "source": [
    "lasso = Lasso()\n",
    "\n",
    "ridge = Ridge()"
   ]
  },
  {
   "cell_type": "code",
   "execution_count": 24,
   "id": "d4fac573-f266-4f84-bb9e-10b576fcfd69",
   "metadata": {},
   "outputs": [
    {
     "name": "stderr",
     "output_type": "stream",
     "text": [
      "/Users/ben/miniforge3/lib/python3.10/site-packages/sklearn/linear_model/_coordinate_descent.py:628: ConvergenceWarning: Objective did not converge. You might want to increase the number of iterations, check the scale of the features or consider increasing regularisation. Duality gap: 2.098e+11, tolerance: 1.166e+09\n",
      "  model = cd_fast.enet_coordinate_descent(\n"
     ]
    },
    {
     "data": {
      "text/html": [
       "<style>#sk-container-id-2 {color: black;}#sk-container-id-2 pre{padding: 0;}#sk-container-id-2 div.sk-toggleable {background-color: white;}#sk-container-id-2 label.sk-toggleable__label {cursor: pointer;display: block;width: 100%;margin-bottom: 0;padding: 0.3em;box-sizing: border-box;text-align: center;}#sk-container-id-2 label.sk-toggleable__label-arrow:before {content: \"▸\";float: left;margin-right: 0.25em;color: #696969;}#sk-container-id-2 label.sk-toggleable__label-arrow:hover:before {color: black;}#sk-container-id-2 div.sk-estimator:hover label.sk-toggleable__label-arrow:before {color: black;}#sk-container-id-2 div.sk-toggleable__content {max-height: 0;max-width: 0;overflow: hidden;text-align: left;background-color: #f0f8ff;}#sk-container-id-2 div.sk-toggleable__content pre {margin: 0.2em;color: black;border-radius: 0.25em;background-color: #f0f8ff;}#sk-container-id-2 input.sk-toggleable__control:checked~div.sk-toggleable__content {max-height: 200px;max-width: 100%;overflow: auto;}#sk-container-id-2 input.sk-toggleable__control:checked~label.sk-toggleable__label-arrow:before {content: \"▾\";}#sk-container-id-2 div.sk-estimator input.sk-toggleable__control:checked~label.sk-toggleable__label {background-color: #d4ebff;}#sk-container-id-2 div.sk-label input.sk-toggleable__control:checked~label.sk-toggleable__label {background-color: #d4ebff;}#sk-container-id-2 input.sk-hidden--visually {border: 0;clip: rect(1px 1px 1px 1px);clip: rect(1px, 1px, 1px, 1px);height: 1px;margin: -1px;overflow: hidden;padding: 0;position: absolute;width: 1px;}#sk-container-id-2 div.sk-estimator {font-family: monospace;background-color: #f0f8ff;border: 1px dotted black;border-radius: 0.25em;box-sizing: border-box;margin-bottom: 0.5em;}#sk-container-id-2 div.sk-estimator:hover {background-color: #d4ebff;}#sk-container-id-2 div.sk-parallel-item::after {content: \"\";width: 100%;border-bottom: 1px solid gray;flex-grow: 1;}#sk-container-id-2 div.sk-label:hover label.sk-toggleable__label {background-color: #d4ebff;}#sk-container-id-2 div.sk-serial::before {content: \"\";position: absolute;border-left: 1px solid gray;box-sizing: border-box;top: 0;bottom: 0;left: 50%;z-index: 0;}#sk-container-id-2 div.sk-serial {display: flex;flex-direction: column;align-items: center;background-color: white;padding-right: 0.2em;padding-left: 0.2em;position: relative;}#sk-container-id-2 div.sk-item {position: relative;z-index: 1;}#sk-container-id-2 div.sk-parallel {display: flex;align-items: stretch;justify-content: center;background-color: white;position: relative;}#sk-container-id-2 div.sk-item::before, #sk-container-id-2 div.sk-parallel-item::before {content: \"\";position: absolute;border-left: 1px solid gray;box-sizing: border-box;top: 0;bottom: 0;left: 50%;z-index: -1;}#sk-container-id-2 div.sk-parallel-item {display: flex;flex-direction: column;z-index: 1;position: relative;background-color: white;}#sk-container-id-2 div.sk-parallel-item:first-child::after {align-self: flex-end;width: 50%;}#sk-container-id-2 div.sk-parallel-item:last-child::after {align-self: flex-start;width: 50%;}#sk-container-id-2 div.sk-parallel-item:only-child::after {width: 0;}#sk-container-id-2 div.sk-dashed-wrapped {border: 1px dashed gray;margin: 0 0.4em 0.5em 0.4em;box-sizing: border-box;padding-bottom: 0.4em;background-color: white;}#sk-container-id-2 div.sk-label label {font-family: monospace;font-weight: bold;display: inline-block;line-height: 1.2em;}#sk-container-id-2 div.sk-label-container {text-align: center;}#sk-container-id-2 div.sk-container {/* jupyter's `normalize.less` sets `[hidden] { display: none; }` but bootstrap.min.css set `[hidden] { display: none !important; }` so we also need the `!important` here to be able to override the default hidden behavior on the sphinx rendered scikit-learn.org. See: https://github.com/scikit-learn/scikit-learn/issues/21755 */display: inline-block !important;position: relative;}#sk-container-id-2 div.sk-text-repr-fallback {display: none;}</style><div id=\"sk-container-id-2\" class=\"sk-top-container\"><div class=\"sk-text-repr-fallback\"><pre>Lasso()</pre><b>In a Jupyter environment, please rerun this cell to show the HTML representation or trust the notebook. <br />On GitHub, the HTML representation is unable to render, please try loading this page with nbviewer.org.</b></div><div class=\"sk-container\" hidden><div class=\"sk-item\"><div class=\"sk-estimator sk-toggleable\"><input class=\"sk-toggleable__control sk-hidden--visually\" id=\"sk-estimator-id-2\" type=\"checkbox\" checked><label for=\"sk-estimator-id-2\" class=\"sk-toggleable__label sk-toggleable__label-arrow\">Lasso</label><div class=\"sk-toggleable__content\"><pre>Lasso()</pre></div></div></div></div></div>"
      ],
      "text/plain": [
       "Lasso()"
      ]
     },
     "execution_count": 24,
     "metadata": {},
     "output_type": "execute_result"
    }
   ],
   "source": [
    "lasso.fit(X_train,y_train)"
   ]
  },
  {
   "cell_type": "code",
   "execution_count": 25,
   "id": "098be989-eabe-422b-8040-2ff904dde60e",
   "metadata": {},
   "outputs": [
    {
     "data": {
      "text/html": [
       "<style>#sk-container-id-3 {color: black;}#sk-container-id-3 pre{padding: 0;}#sk-container-id-3 div.sk-toggleable {background-color: white;}#sk-container-id-3 label.sk-toggleable__label {cursor: pointer;display: block;width: 100%;margin-bottom: 0;padding: 0.3em;box-sizing: border-box;text-align: center;}#sk-container-id-3 label.sk-toggleable__label-arrow:before {content: \"▸\";float: left;margin-right: 0.25em;color: #696969;}#sk-container-id-3 label.sk-toggleable__label-arrow:hover:before {color: black;}#sk-container-id-3 div.sk-estimator:hover label.sk-toggleable__label-arrow:before {color: black;}#sk-container-id-3 div.sk-toggleable__content {max-height: 0;max-width: 0;overflow: hidden;text-align: left;background-color: #f0f8ff;}#sk-container-id-3 div.sk-toggleable__content pre {margin: 0.2em;color: black;border-radius: 0.25em;background-color: #f0f8ff;}#sk-container-id-3 input.sk-toggleable__control:checked~div.sk-toggleable__content {max-height: 200px;max-width: 100%;overflow: auto;}#sk-container-id-3 input.sk-toggleable__control:checked~label.sk-toggleable__label-arrow:before {content: \"▾\";}#sk-container-id-3 div.sk-estimator input.sk-toggleable__control:checked~label.sk-toggleable__label {background-color: #d4ebff;}#sk-container-id-3 div.sk-label input.sk-toggleable__control:checked~label.sk-toggleable__label {background-color: #d4ebff;}#sk-container-id-3 input.sk-hidden--visually {border: 0;clip: rect(1px 1px 1px 1px);clip: rect(1px, 1px, 1px, 1px);height: 1px;margin: -1px;overflow: hidden;padding: 0;position: absolute;width: 1px;}#sk-container-id-3 div.sk-estimator {font-family: monospace;background-color: #f0f8ff;border: 1px dotted black;border-radius: 0.25em;box-sizing: border-box;margin-bottom: 0.5em;}#sk-container-id-3 div.sk-estimator:hover {background-color: #d4ebff;}#sk-container-id-3 div.sk-parallel-item::after {content: \"\";width: 100%;border-bottom: 1px solid gray;flex-grow: 1;}#sk-container-id-3 div.sk-label:hover label.sk-toggleable__label {background-color: #d4ebff;}#sk-container-id-3 div.sk-serial::before {content: \"\";position: absolute;border-left: 1px solid gray;box-sizing: border-box;top: 0;bottom: 0;left: 50%;z-index: 0;}#sk-container-id-3 div.sk-serial {display: flex;flex-direction: column;align-items: center;background-color: white;padding-right: 0.2em;padding-left: 0.2em;position: relative;}#sk-container-id-3 div.sk-item {position: relative;z-index: 1;}#sk-container-id-3 div.sk-parallel {display: flex;align-items: stretch;justify-content: center;background-color: white;position: relative;}#sk-container-id-3 div.sk-item::before, #sk-container-id-3 div.sk-parallel-item::before {content: \"\";position: absolute;border-left: 1px solid gray;box-sizing: border-box;top: 0;bottom: 0;left: 50%;z-index: -1;}#sk-container-id-3 div.sk-parallel-item {display: flex;flex-direction: column;z-index: 1;position: relative;background-color: white;}#sk-container-id-3 div.sk-parallel-item:first-child::after {align-self: flex-end;width: 50%;}#sk-container-id-3 div.sk-parallel-item:last-child::after {align-self: flex-start;width: 50%;}#sk-container-id-3 div.sk-parallel-item:only-child::after {width: 0;}#sk-container-id-3 div.sk-dashed-wrapped {border: 1px dashed gray;margin: 0 0.4em 0.5em 0.4em;box-sizing: border-box;padding-bottom: 0.4em;background-color: white;}#sk-container-id-3 div.sk-label label {font-family: monospace;font-weight: bold;display: inline-block;line-height: 1.2em;}#sk-container-id-3 div.sk-label-container {text-align: center;}#sk-container-id-3 div.sk-container {/* jupyter's `normalize.less` sets `[hidden] { display: none; }` but bootstrap.min.css set `[hidden] { display: none !important; }` so we also need the `!important` here to be able to override the default hidden behavior on the sphinx rendered scikit-learn.org. See: https://github.com/scikit-learn/scikit-learn/issues/21755 */display: inline-block !important;position: relative;}#sk-container-id-3 div.sk-text-repr-fallback {display: none;}</style><div id=\"sk-container-id-3\" class=\"sk-top-container\"><div class=\"sk-text-repr-fallback\"><pre>Ridge()</pre><b>In a Jupyter environment, please rerun this cell to show the HTML representation or trust the notebook. <br />On GitHub, the HTML representation is unable to render, please try loading this page with nbviewer.org.</b></div><div class=\"sk-container\" hidden><div class=\"sk-item\"><div class=\"sk-estimator sk-toggleable\"><input class=\"sk-toggleable__control sk-hidden--visually\" id=\"sk-estimator-id-3\" type=\"checkbox\" checked><label for=\"sk-estimator-id-3\" class=\"sk-toggleable__label sk-toggleable__label-arrow\">Ridge</label><div class=\"sk-toggleable__content\"><pre>Ridge()</pre></div></div></div></div></div>"
      ],
      "text/plain": [
       "Ridge()"
      ]
     },
     "execution_count": 25,
     "metadata": {},
     "output_type": "execute_result"
    }
   ],
   "source": [
    "ridge.fit(X_train,y_train)"
   ]
  },
  {
   "cell_type": "code",
   "execution_count": 26,
   "id": "bd894872-0b5c-4b62-8d87-d91a58e85328",
   "metadata": {},
   "outputs": [
    {
     "name": "stdout",
     "output_type": "stream",
     "text": [
      "Intercept: 182065.01499640834\n",
      "Coefficient: [-3.31948790e+17  1.32320000e+04 -9.09200000e+03  1.80800000e+03\n",
      "  2.73600000e+04  1.30080000e+04  3.06400000e+03  4.96400000e+03\n",
      " -6.36000000e+02 -8.32000000e+02  2.13200000e+03  4.09000000e+03\n",
      "  5.48600000e+03  8.29600000e+03  2.04900000e+03  7.22000000e+02\n",
      "  2.32400000e+03  2.58000000e+03  3.31948790e+17  2.57160000e+04\n",
      "  2.40920159e+16  1.40342575e+16  4.44564765e+16  2.48799973e+16\n",
      " -4.19720000e+04  2.31200000e+03 -2.21000000e+02  7.64500000e+02\n",
      " -5.93048384e+14 -5.27800000e+03  6.65600000e+03  1.65050000e+03\n",
      "  1.38200000e+03  6.57700000e+03  1.75000000e+03  4.60600000e+03\n",
      " -2.06067804e+16 -5.93048384e+14  1.86100000e+03]\n"
     ]
    }
   ],
   "source": [
    "# Print out intercept and coefficients.\n",
    "print(f'Intercept: {linmod.intercept_}')\n",
    "print(f'Coefficient: {linmod.coef_}')"
   ]
  },
  {
   "cell_type": "code",
   "execution_count": 27,
   "id": "de42c0fd-a31c-45df-baad-5f737e207a63",
   "metadata": {},
   "outputs": [
    {
     "name": "stdout",
     "output_type": "stream",
     "text": [
      "Intercept: 182064.33983739838\n",
      "Coefficient: [ 53611.04829968  13121.64530994  -8941.93722285   1794.11149518\n",
      "  27312.87364097  13023.42811885   3070.80650266   4942.35447428\n",
      "   -646.23659825   -814.15010697   2141.59993342   4064.52037651\n",
      "   5479.86440098   8250.30632264   2045.24955411    724.37576572\n",
      "   2356.87385556   2567.07444475 -37140.40132651  25668.22536616\n",
      "   9642.75162567   -566.66386506  -3368.4439683     300.70800329\n",
      " -41963.93079535   1941.25305732   -356.08999837    479.48054581\n",
      "  -3048.45572372  -5231.49371091   6674.56488064   1645.27758112\n",
      "   1352.06138172   6645.23092312   1733.23415343   4591.50476528\n",
      "   4304.94516053  -1506.53148092   1862.71830857]\n"
     ]
    }
   ],
   "source": [
    "# Print out intercept and coefficients - lasso\n",
    "print(f'Intercept: {lasso.intercept_}')\n",
    "print(f'Coefficient: {lasso.coef_}')"
   ]
  },
  {
   "cell_type": "code",
   "execution_count": 28,
   "id": "e37e7a4e-4b79-4d34-952f-7611fa714141",
   "metadata": {},
   "outputs": [
    {
     "name": "stdout",
     "output_type": "stream",
     "text": [
      "Intercept: 182064.33983739838\n",
      "Coefficient: [  8238.38167365  13074.205634    -8454.00466445   1774.90777505\n",
      "  26959.75566083  13077.90420467   3075.0974914    4920.44348196\n",
      "   -623.12811513   -817.24735647   2158.29891523   4072.27989999\n",
      "   5491.05703532   8219.19350169   2044.36068214    729.30240531\n",
      "   2350.56283334   2578.55511377   8238.38167361  24899.0128461\n",
      "   9758.57826346   -507.60563889  -3175.4868255   -1908.44467986\n",
      " -41412.22593954   2282.5440157    -240.8348613     721.14185332\n",
      "   -621.23271736  -4934.73640099   6700.8453815    1651.93200426\n",
      "   1380.73934825   6654.73708596   1735.71652877   4612.37214104\n",
      "   1908.44467987    621.23271744   1869.77209971]\n"
     ]
    }
   ],
   "source": [
    "# Print out intercept and coefficients - ridge\n",
    "print(f'Intercept: {ridge.intercept_}')\n",
    "print(f'Coefficient: {ridge.coef_}')"
   ]
  },
  {
   "cell_type": "code",
   "execution_count": 29,
   "id": "d1592055-27de-4f9e-859b-61adcc47ec38",
   "metadata": {},
   "outputs": [
    {
     "name": "stdout",
     "output_type": "stream",
     "text": [
      "The train score for lin model is 0.8731987050307888\n",
      "The test score for lin model is 0.8971382603045467\n"
     ]
    }
   ],
   "source": [
    "#predict\n",
    "prediction_lin = linmod.predict(X_test)\n",
    "\n",
    "#actual\n",
    "actual = y_test\n",
    "\n",
    "train_score_lin = linmod.score(X_train, y_train)\n",
    "test_score_lin = linmod.score(X_test, y_test)\n",
    "\n",
    "print(\"The train score for lin model is {}\".format(train_score_lin))\n",
    "print(\"The test score for lin model is {}\".format(test_score_lin))"
   ]
  },
  {
   "cell_type": "code",
   "execution_count": 30,
   "id": "96a1ccc7-d633-4799-8432-492e6e8bf3b1",
   "metadata": {},
   "outputs": [
    {
     "name": "stdout",
     "output_type": "stream",
     "text": [
      "The train score for lasso model is 0.8732174963791982\n",
      "The test score for lasso model is 0.8967215151800544\n"
     ]
    }
   ],
   "source": [
    "# And same for the other models \n",
    "#predict\n",
    "prediction_lasso = lasso.predict(X_test)\n",
    "\n",
    "#actual\n",
    "actual = y_test\n",
    "\n",
    "train_score_lasso = lasso.score(X_train, y_train)\n",
    "test_score_lasso = lasso.score(X_test, y_test)\n",
    "\n",
    "print(\"The train score for lasso model is {}\".format(train_score_lasso))\n",
    "print(\"The test score for lasso model is {}\".format(test_score_lasso))"
   ]
  },
  {
   "cell_type": "code",
   "execution_count": 31,
   "id": "94dbe4fe-2ecc-4f16-97c5-b3c75c3dc8de",
   "metadata": {},
   "outputs": [
    {
     "name": "stdout",
     "output_type": "stream",
     "text": [
      "The train score for ridge model is 0.8732124382219942\n",
      "The test score for ridge model is 0.8967139629736494\n"
     ]
    }
   ],
   "source": [
    "#predict\n",
    "prediction_ridge = ridge.predict(X_test)\n",
    "\n",
    "#actual\n",
    "actual = y_test\n",
    "\n",
    "train_score_ridge = ridge.score(X_train, y_train)\n",
    "test_score_ridge = ridge.score(X_test, y_test)\n",
    "\n",
    "print(\"The train score for ridge model is {}\".format(train_score_ridge))\n",
    "print(\"The test score for ridge model is {}\".format(test_score_ridge))"
   ]
  },
  {
   "cell_type": "markdown",
   "id": "b77eb702-7ab7-438f-bbe2-dadae94725b1",
   "metadata": {},
   "source": [
    "# Other Fits"
   ]
  },
  {
   "cell_type": "markdown",
   "id": "8b79a87d-4d99-4599-8b5a-1f6150c410aa",
   "metadata": {},
   "source": [
    "A look at non-linearity, polynomial features for a better characteristic equation. "
   ]
  },
  {
   "cell_type": "code",
   "execution_count": 32,
   "id": "c2a34dd1-32b9-428f-98ee-5854f24fc24b",
   "metadata": {},
   "outputs": [],
   "source": [
    "poly = PolynomialFeatures(degree=2,include_bias=False)"
   ]
  },
  {
   "cell_type": "code",
   "execution_count": 33,
   "id": "169d2252-c1e9-4101-8e8c-7cec6f00aca3",
   "metadata": {},
   "outputs": [],
   "source": [
    "X_train = poly.fit_transform(X_train)\n",
    "\n",
    "X_test = poly.transform(X_test)"
   ]
  },
  {
   "cell_type": "markdown",
   "id": "2a20d05d-9045-4ecf-8a66-3c93b17ac9f1",
   "metadata": {},
   "source": [
    "Cubed order units $\\text{m}^3$ term present in characteristic equation. "
   ]
  },
  {
   "cell_type": "code",
   "execution_count": 34,
   "id": "fe3d88d6-4717-47a8-8bc3-4d734813418e",
   "metadata": {},
   "outputs": [
    {
     "data": {
      "text/html": [
       "<style>#sk-container-id-4 {color: black;}#sk-container-id-4 pre{padding: 0;}#sk-container-id-4 div.sk-toggleable {background-color: white;}#sk-container-id-4 label.sk-toggleable__label {cursor: pointer;display: block;width: 100%;margin-bottom: 0;padding: 0.3em;box-sizing: border-box;text-align: center;}#sk-container-id-4 label.sk-toggleable__label-arrow:before {content: \"▸\";float: left;margin-right: 0.25em;color: #696969;}#sk-container-id-4 label.sk-toggleable__label-arrow:hover:before {color: black;}#sk-container-id-4 div.sk-estimator:hover label.sk-toggleable__label-arrow:before {color: black;}#sk-container-id-4 div.sk-toggleable__content {max-height: 0;max-width: 0;overflow: hidden;text-align: left;background-color: #f0f8ff;}#sk-container-id-4 div.sk-toggleable__content pre {margin: 0.2em;color: black;border-radius: 0.25em;background-color: #f0f8ff;}#sk-container-id-4 input.sk-toggleable__control:checked~div.sk-toggleable__content {max-height: 200px;max-width: 100%;overflow: auto;}#sk-container-id-4 input.sk-toggleable__control:checked~label.sk-toggleable__label-arrow:before {content: \"▾\";}#sk-container-id-4 div.sk-estimator input.sk-toggleable__control:checked~label.sk-toggleable__label {background-color: #d4ebff;}#sk-container-id-4 div.sk-label input.sk-toggleable__control:checked~label.sk-toggleable__label {background-color: #d4ebff;}#sk-container-id-4 input.sk-hidden--visually {border: 0;clip: rect(1px 1px 1px 1px);clip: rect(1px, 1px, 1px, 1px);height: 1px;margin: -1px;overflow: hidden;padding: 0;position: absolute;width: 1px;}#sk-container-id-4 div.sk-estimator {font-family: monospace;background-color: #f0f8ff;border: 1px dotted black;border-radius: 0.25em;box-sizing: border-box;margin-bottom: 0.5em;}#sk-container-id-4 div.sk-estimator:hover {background-color: #d4ebff;}#sk-container-id-4 div.sk-parallel-item::after {content: \"\";width: 100%;border-bottom: 1px solid gray;flex-grow: 1;}#sk-container-id-4 div.sk-label:hover label.sk-toggleable__label {background-color: #d4ebff;}#sk-container-id-4 div.sk-serial::before {content: \"\";position: absolute;border-left: 1px solid gray;box-sizing: border-box;top: 0;bottom: 0;left: 50%;z-index: 0;}#sk-container-id-4 div.sk-serial {display: flex;flex-direction: column;align-items: center;background-color: white;padding-right: 0.2em;padding-left: 0.2em;position: relative;}#sk-container-id-4 div.sk-item {position: relative;z-index: 1;}#sk-container-id-4 div.sk-parallel {display: flex;align-items: stretch;justify-content: center;background-color: white;position: relative;}#sk-container-id-4 div.sk-item::before, #sk-container-id-4 div.sk-parallel-item::before {content: \"\";position: absolute;border-left: 1px solid gray;box-sizing: border-box;top: 0;bottom: 0;left: 50%;z-index: -1;}#sk-container-id-4 div.sk-parallel-item {display: flex;flex-direction: column;z-index: 1;position: relative;background-color: white;}#sk-container-id-4 div.sk-parallel-item:first-child::after {align-self: flex-end;width: 50%;}#sk-container-id-4 div.sk-parallel-item:last-child::after {align-self: flex-start;width: 50%;}#sk-container-id-4 div.sk-parallel-item:only-child::after {width: 0;}#sk-container-id-4 div.sk-dashed-wrapped {border: 1px dashed gray;margin: 0 0.4em 0.5em 0.4em;box-sizing: border-box;padding-bottom: 0.4em;background-color: white;}#sk-container-id-4 div.sk-label label {font-family: monospace;font-weight: bold;display: inline-block;line-height: 1.2em;}#sk-container-id-4 div.sk-label-container {text-align: center;}#sk-container-id-4 div.sk-container {/* jupyter's `normalize.less` sets `[hidden] { display: none; }` but bootstrap.min.css set `[hidden] { display: none !important; }` so we also need the `!important` here to be able to override the default hidden behavior on the sphinx rendered scikit-learn.org. See: https://github.com/scikit-learn/scikit-learn/issues/21755 */display: inline-block !important;position: relative;}#sk-container-id-4 div.sk-text-repr-fallback {display: none;}</style><div id=\"sk-container-id-4\" class=\"sk-top-container\"><div class=\"sk-text-repr-fallback\"><pre>LinearRegression()</pre><b>In a Jupyter environment, please rerun this cell to show the HTML representation or trust the notebook. <br />On GitHub, the HTML representation is unable to render, please try loading this page with nbviewer.org.</b></div><div class=\"sk-container\" hidden><div class=\"sk-item\"><div class=\"sk-estimator sk-toggleable\"><input class=\"sk-toggleable__control sk-hidden--visually\" id=\"sk-estimator-id-4\" type=\"checkbox\" checked><label for=\"sk-estimator-id-4\" class=\"sk-toggleable__label sk-toggleable__label-arrow\">LinearRegression</label><div class=\"sk-toggleable__content\"><pre>LinearRegression()</pre></div></div></div></div></div>"
      ],
      "text/plain": [
       "LinearRegression()"
      ]
     },
     "execution_count": 34,
     "metadata": {},
     "output_type": "execute_result"
    }
   ],
   "source": [
    "linmod.fit(X_train,y_train)"
   ]
  },
  {
   "cell_type": "code",
   "execution_count": 35,
   "id": "ef5f0d9d-194d-4a73-b812-32b8762c71f2",
   "metadata": {},
   "outputs": [],
   "source": [
    "lasso_model = LassoCV(max_iter=10000)"
   ]
  },
  {
   "cell_type": "code",
   "execution_count": 36,
   "id": "f7c7506b-375e-402f-9ca9-f0258f4b94fb",
   "metadata": {},
   "outputs": [
    {
     "data": {
      "text/html": [
       "<style>#sk-container-id-5 {color: black;}#sk-container-id-5 pre{padding: 0;}#sk-container-id-5 div.sk-toggleable {background-color: white;}#sk-container-id-5 label.sk-toggleable__label {cursor: pointer;display: block;width: 100%;margin-bottom: 0;padding: 0.3em;box-sizing: border-box;text-align: center;}#sk-container-id-5 label.sk-toggleable__label-arrow:before {content: \"▸\";float: left;margin-right: 0.25em;color: #696969;}#sk-container-id-5 label.sk-toggleable__label-arrow:hover:before {color: black;}#sk-container-id-5 div.sk-estimator:hover label.sk-toggleable__label-arrow:before {color: black;}#sk-container-id-5 div.sk-toggleable__content {max-height: 0;max-width: 0;overflow: hidden;text-align: left;background-color: #f0f8ff;}#sk-container-id-5 div.sk-toggleable__content pre {margin: 0.2em;color: black;border-radius: 0.25em;background-color: #f0f8ff;}#sk-container-id-5 input.sk-toggleable__control:checked~div.sk-toggleable__content {max-height: 200px;max-width: 100%;overflow: auto;}#sk-container-id-5 input.sk-toggleable__control:checked~label.sk-toggleable__label-arrow:before {content: \"▾\";}#sk-container-id-5 div.sk-estimator input.sk-toggleable__control:checked~label.sk-toggleable__label {background-color: #d4ebff;}#sk-container-id-5 div.sk-label input.sk-toggleable__control:checked~label.sk-toggleable__label {background-color: #d4ebff;}#sk-container-id-5 input.sk-hidden--visually {border: 0;clip: rect(1px 1px 1px 1px);clip: rect(1px, 1px, 1px, 1px);height: 1px;margin: -1px;overflow: hidden;padding: 0;position: absolute;width: 1px;}#sk-container-id-5 div.sk-estimator {font-family: monospace;background-color: #f0f8ff;border: 1px dotted black;border-radius: 0.25em;box-sizing: border-box;margin-bottom: 0.5em;}#sk-container-id-5 div.sk-estimator:hover {background-color: #d4ebff;}#sk-container-id-5 div.sk-parallel-item::after {content: \"\";width: 100%;border-bottom: 1px solid gray;flex-grow: 1;}#sk-container-id-5 div.sk-label:hover label.sk-toggleable__label {background-color: #d4ebff;}#sk-container-id-5 div.sk-serial::before {content: \"\";position: absolute;border-left: 1px solid gray;box-sizing: border-box;top: 0;bottom: 0;left: 50%;z-index: 0;}#sk-container-id-5 div.sk-serial {display: flex;flex-direction: column;align-items: center;background-color: white;padding-right: 0.2em;padding-left: 0.2em;position: relative;}#sk-container-id-5 div.sk-item {position: relative;z-index: 1;}#sk-container-id-5 div.sk-parallel {display: flex;align-items: stretch;justify-content: center;background-color: white;position: relative;}#sk-container-id-5 div.sk-item::before, #sk-container-id-5 div.sk-parallel-item::before {content: \"\";position: absolute;border-left: 1px solid gray;box-sizing: border-box;top: 0;bottom: 0;left: 50%;z-index: -1;}#sk-container-id-5 div.sk-parallel-item {display: flex;flex-direction: column;z-index: 1;position: relative;background-color: white;}#sk-container-id-5 div.sk-parallel-item:first-child::after {align-self: flex-end;width: 50%;}#sk-container-id-5 div.sk-parallel-item:last-child::after {align-self: flex-start;width: 50%;}#sk-container-id-5 div.sk-parallel-item:only-child::after {width: 0;}#sk-container-id-5 div.sk-dashed-wrapped {border: 1px dashed gray;margin: 0 0.4em 0.5em 0.4em;box-sizing: border-box;padding-bottom: 0.4em;background-color: white;}#sk-container-id-5 div.sk-label label {font-family: monospace;font-weight: bold;display: inline-block;line-height: 1.2em;}#sk-container-id-5 div.sk-label-container {text-align: center;}#sk-container-id-5 div.sk-container {/* jupyter's `normalize.less` sets `[hidden] { display: none; }` but bootstrap.min.css set `[hidden] { display: none !important; }` so we also need the `!important` here to be able to override the default hidden behavior on the sphinx rendered scikit-learn.org. See: https://github.com/scikit-learn/scikit-learn/issues/21755 */display: inline-block !important;position: relative;}#sk-container-id-5 div.sk-text-repr-fallback {display: none;}</style><div id=\"sk-container-id-5\" class=\"sk-top-container\"><div class=\"sk-text-repr-fallback\"><pre>LassoCV(max_iter=10000)</pre><b>In a Jupyter environment, please rerun this cell to show the HTML representation or trust the notebook. <br />On GitHub, the HTML representation is unable to render, please try loading this page with nbviewer.org.</b></div><div class=\"sk-container\" hidden><div class=\"sk-item\"><div class=\"sk-estimator sk-toggleable\"><input class=\"sk-toggleable__control sk-hidden--visually\" id=\"sk-estimator-id-5\" type=\"checkbox\" checked><label for=\"sk-estimator-id-5\" class=\"sk-toggleable__label sk-toggleable__label-arrow\">LassoCV</label><div class=\"sk-toggleable__content\"><pre>LassoCV(max_iter=10000)</pre></div></div></div></div></div>"
      ],
      "text/plain": [
       "LassoCV(max_iter=10000)"
      ]
     },
     "execution_count": 36,
     "metadata": {},
     "output_type": "execute_result"
    }
   ],
   "source": [
    "lasso_model.fit(X_train,y_train)"
   ]
  },
  {
   "cell_type": "code",
   "execution_count": 37,
   "id": "21decda8-1c99-459c-8c2c-e6455859dece",
   "metadata": {},
   "outputs": [
    {
     "data": {
      "text/html": [
       "<style>#sk-container-id-6 {color: black;}#sk-container-id-6 pre{padding: 0;}#sk-container-id-6 div.sk-toggleable {background-color: white;}#sk-container-id-6 label.sk-toggleable__label {cursor: pointer;display: block;width: 100%;margin-bottom: 0;padding: 0.3em;box-sizing: border-box;text-align: center;}#sk-container-id-6 label.sk-toggleable__label-arrow:before {content: \"▸\";float: left;margin-right: 0.25em;color: #696969;}#sk-container-id-6 label.sk-toggleable__label-arrow:hover:before {color: black;}#sk-container-id-6 div.sk-estimator:hover label.sk-toggleable__label-arrow:before {color: black;}#sk-container-id-6 div.sk-toggleable__content {max-height: 0;max-width: 0;overflow: hidden;text-align: left;background-color: #f0f8ff;}#sk-container-id-6 div.sk-toggleable__content pre {margin: 0.2em;color: black;border-radius: 0.25em;background-color: #f0f8ff;}#sk-container-id-6 input.sk-toggleable__control:checked~div.sk-toggleable__content {max-height: 200px;max-width: 100%;overflow: auto;}#sk-container-id-6 input.sk-toggleable__control:checked~label.sk-toggleable__label-arrow:before {content: \"▾\";}#sk-container-id-6 div.sk-estimator input.sk-toggleable__control:checked~label.sk-toggleable__label {background-color: #d4ebff;}#sk-container-id-6 div.sk-label input.sk-toggleable__control:checked~label.sk-toggleable__label {background-color: #d4ebff;}#sk-container-id-6 input.sk-hidden--visually {border: 0;clip: rect(1px 1px 1px 1px);clip: rect(1px, 1px, 1px, 1px);height: 1px;margin: -1px;overflow: hidden;padding: 0;position: absolute;width: 1px;}#sk-container-id-6 div.sk-estimator {font-family: monospace;background-color: #f0f8ff;border: 1px dotted black;border-radius: 0.25em;box-sizing: border-box;margin-bottom: 0.5em;}#sk-container-id-6 div.sk-estimator:hover {background-color: #d4ebff;}#sk-container-id-6 div.sk-parallel-item::after {content: \"\";width: 100%;border-bottom: 1px solid gray;flex-grow: 1;}#sk-container-id-6 div.sk-label:hover label.sk-toggleable__label {background-color: #d4ebff;}#sk-container-id-6 div.sk-serial::before {content: \"\";position: absolute;border-left: 1px solid gray;box-sizing: border-box;top: 0;bottom: 0;left: 50%;z-index: 0;}#sk-container-id-6 div.sk-serial {display: flex;flex-direction: column;align-items: center;background-color: white;padding-right: 0.2em;padding-left: 0.2em;position: relative;}#sk-container-id-6 div.sk-item {position: relative;z-index: 1;}#sk-container-id-6 div.sk-parallel {display: flex;align-items: stretch;justify-content: center;background-color: white;position: relative;}#sk-container-id-6 div.sk-item::before, #sk-container-id-6 div.sk-parallel-item::before {content: \"\";position: absolute;border-left: 1px solid gray;box-sizing: border-box;top: 0;bottom: 0;left: 50%;z-index: -1;}#sk-container-id-6 div.sk-parallel-item {display: flex;flex-direction: column;z-index: 1;position: relative;background-color: white;}#sk-container-id-6 div.sk-parallel-item:first-child::after {align-self: flex-end;width: 50%;}#sk-container-id-6 div.sk-parallel-item:last-child::after {align-self: flex-start;width: 50%;}#sk-container-id-6 div.sk-parallel-item:only-child::after {width: 0;}#sk-container-id-6 div.sk-dashed-wrapped {border: 1px dashed gray;margin: 0 0.4em 0.5em 0.4em;box-sizing: border-box;padding-bottom: 0.4em;background-color: white;}#sk-container-id-6 div.sk-label label {font-family: monospace;font-weight: bold;display: inline-block;line-height: 1.2em;}#sk-container-id-6 div.sk-label-container {text-align: center;}#sk-container-id-6 div.sk-container {/* jupyter's `normalize.less` sets `[hidden] { display: none; }` but bootstrap.min.css set `[hidden] { display: none !important; }` so we also need the `!important` here to be able to override the default hidden behavior on the sphinx rendered scikit-learn.org. See: https://github.com/scikit-learn/scikit-learn/issues/21755 */display: inline-block !important;position: relative;}#sk-container-id-6 div.sk-text-repr-fallback {display: none;}</style><div id=\"sk-container-id-6\" class=\"sk-top-container\"><div class=\"sk-text-repr-fallback\"><pre>Ridge()</pre><b>In a Jupyter environment, please rerun this cell to show the HTML representation or trust the notebook. <br />On GitHub, the HTML representation is unable to render, please try loading this page with nbviewer.org.</b></div><div class=\"sk-container\" hidden><div class=\"sk-item\"><div class=\"sk-estimator sk-toggleable\"><input class=\"sk-toggleable__control sk-hidden--visually\" id=\"sk-estimator-id-6\" type=\"checkbox\" checked><label for=\"sk-estimator-id-6\" class=\"sk-toggleable__label sk-toggleable__label-arrow\">Ridge</label><div class=\"sk-toggleable__content\"><pre>Ridge()</pre></div></div></div></div></div>"
      ],
      "text/plain": [
       "Ridge()"
      ]
     },
     "execution_count": 37,
     "metadata": {},
     "output_type": "execute_result"
    }
   ],
   "source": [
    "ridge.fit(X_train,y_train)"
   ]
  },
  {
   "cell_type": "code",
   "execution_count": 38,
   "id": "9e63d7a5-d88d-49d1-8822-06b6aa197b57",
   "metadata": {},
   "outputs": [
    {
     "data": {
      "text/html": [
       "<style>#sk-container-id-7 {color: black;}#sk-container-id-7 pre{padding: 0;}#sk-container-id-7 div.sk-toggleable {background-color: white;}#sk-container-id-7 label.sk-toggleable__label {cursor: pointer;display: block;width: 100%;margin-bottom: 0;padding: 0.3em;box-sizing: border-box;text-align: center;}#sk-container-id-7 label.sk-toggleable__label-arrow:before {content: \"▸\";float: left;margin-right: 0.25em;color: #696969;}#sk-container-id-7 label.sk-toggleable__label-arrow:hover:before {color: black;}#sk-container-id-7 div.sk-estimator:hover label.sk-toggleable__label-arrow:before {color: black;}#sk-container-id-7 div.sk-toggleable__content {max-height: 0;max-width: 0;overflow: hidden;text-align: left;background-color: #f0f8ff;}#sk-container-id-7 div.sk-toggleable__content pre {margin: 0.2em;color: black;border-radius: 0.25em;background-color: #f0f8ff;}#sk-container-id-7 input.sk-toggleable__control:checked~div.sk-toggleable__content {max-height: 200px;max-width: 100%;overflow: auto;}#sk-container-id-7 input.sk-toggleable__control:checked~label.sk-toggleable__label-arrow:before {content: \"▾\";}#sk-container-id-7 div.sk-estimator input.sk-toggleable__control:checked~label.sk-toggleable__label {background-color: #d4ebff;}#sk-container-id-7 div.sk-label input.sk-toggleable__control:checked~label.sk-toggleable__label {background-color: #d4ebff;}#sk-container-id-7 input.sk-hidden--visually {border: 0;clip: rect(1px 1px 1px 1px);clip: rect(1px, 1px, 1px, 1px);height: 1px;margin: -1px;overflow: hidden;padding: 0;position: absolute;width: 1px;}#sk-container-id-7 div.sk-estimator {font-family: monospace;background-color: #f0f8ff;border: 1px dotted black;border-radius: 0.25em;box-sizing: border-box;margin-bottom: 0.5em;}#sk-container-id-7 div.sk-estimator:hover {background-color: #d4ebff;}#sk-container-id-7 div.sk-parallel-item::after {content: \"\";width: 100%;border-bottom: 1px solid gray;flex-grow: 1;}#sk-container-id-7 div.sk-label:hover label.sk-toggleable__label {background-color: #d4ebff;}#sk-container-id-7 div.sk-serial::before {content: \"\";position: absolute;border-left: 1px solid gray;box-sizing: border-box;top: 0;bottom: 0;left: 50%;z-index: 0;}#sk-container-id-7 div.sk-serial {display: flex;flex-direction: column;align-items: center;background-color: white;padding-right: 0.2em;padding-left: 0.2em;position: relative;}#sk-container-id-7 div.sk-item {position: relative;z-index: 1;}#sk-container-id-7 div.sk-parallel {display: flex;align-items: stretch;justify-content: center;background-color: white;position: relative;}#sk-container-id-7 div.sk-item::before, #sk-container-id-7 div.sk-parallel-item::before {content: \"\";position: absolute;border-left: 1px solid gray;box-sizing: border-box;top: 0;bottom: 0;left: 50%;z-index: -1;}#sk-container-id-7 div.sk-parallel-item {display: flex;flex-direction: column;z-index: 1;position: relative;background-color: white;}#sk-container-id-7 div.sk-parallel-item:first-child::after {align-self: flex-end;width: 50%;}#sk-container-id-7 div.sk-parallel-item:last-child::after {align-self: flex-start;width: 50%;}#sk-container-id-7 div.sk-parallel-item:only-child::after {width: 0;}#sk-container-id-7 div.sk-dashed-wrapped {border: 1px dashed gray;margin: 0 0.4em 0.5em 0.4em;box-sizing: border-box;padding-bottom: 0.4em;background-color: white;}#sk-container-id-7 div.sk-label label {font-family: monospace;font-weight: bold;display: inline-block;line-height: 1.2em;}#sk-container-id-7 div.sk-label-container {text-align: center;}#sk-container-id-7 div.sk-container {/* jupyter's `normalize.less` sets `[hidden] { display: none; }` but bootstrap.min.css set `[hidden] { display: none !important; }` so we also need the `!important` here to be able to override the default hidden behavior on the sphinx rendered scikit-learn.org. See: https://github.com/scikit-learn/scikit-learn/issues/21755 */display: inline-block !important;position: relative;}#sk-container-id-7 div.sk-text-repr-fallback {display: none;}</style><div id=\"sk-container-id-7\" class=\"sk-top-container\"><div class=\"sk-text-repr-fallback\"><pre>RidgeCV(alphas=array([   1.        ,    1.07226722,    1.149757  ,    1.23284674,\n",
       "          1.32194115,    1.41747416,    1.51991108,    1.62975083,\n",
       "          1.7475284 ,    1.87381742,    2.009233  ,    2.15443469,\n",
       "          2.3101297 ,    2.47707636,    2.65608778,    2.84803587,\n",
       "          3.05385551,    3.27454916,    3.51119173,    3.76493581,\n",
       "          4.03701726,    4.32876128,    4.64158883,    4.97702356,\n",
       "          5.33669923,    5.72236766,    6.13590727,    6.57933225,\n",
       "          7.05480231,    7.56463328,    8.11130831,    8...\n",
       "        151.9911083 ,  162.97508346,  174.75284   ,  187.38174229,\n",
       "        200.92330026,  215.443469  ,  231.01297001,  247.7076356 ,\n",
       "        265.60877829,  284.80358684,  305.38555088,  327.45491629,\n",
       "        351.11917342,  376.49358068,  403.70172586,  432.87612811,\n",
       "        464.15888336,  497.70235643,  533.66992312,  572.23676594,\n",
       "        613.59072734,  657.93322466,  705.48023107,  756.46332755,\n",
       "        811.13083079,  869.74900262,  932.60334688, 1000.        ]),\n",
       "        cv=5, scoring=&#x27;r2&#x27;)</pre><b>In a Jupyter environment, please rerun this cell to show the HTML representation or trust the notebook. <br />On GitHub, the HTML representation is unable to render, please try loading this page with nbviewer.org.</b></div><div class=\"sk-container\" hidden><div class=\"sk-item\"><div class=\"sk-estimator sk-toggleable\"><input class=\"sk-toggleable__control sk-hidden--visually\" id=\"sk-estimator-id-7\" type=\"checkbox\" checked><label for=\"sk-estimator-id-7\" class=\"sk-toggleable__label sk-toggleable__label-arrow\">RidgeCV</label><div class=\"sk-toggleable__content\"><pre>RidgeCV(alphas=array([   1.        ,    1.07226722,    1.149757  ,    1.23284674,\n",
       "          1.32194115,    1.41747416,    1.51991108,    1.62975083,\n",
       "          1.7475284 ,    1.87381742,    2.009233  ,    2.15443469,\n",
       "          2.3101297 ,    2.47707636,    2.65608778,    2.84803587,\n",
       "          3.05385551,    3.27454916,    3.51119173,    3.76493581,\n",
       "          4.03701726,    4.32876128,    4.64158883,    4.97702356,\n",
       "          5.33669923,    5.72236766,    6.13590727,    6.57933225,\n",
       "          7.05480231,    7.56463328,    8.11130831,    8...\n",
       "        151.9911083 ,  162.97508346,  174.75284   ,  187.38174229,\n",
       "        200.92330026,  215.443469  ,  231.01297001,  247.7076356 ,\n",
       "        265.60877829,  284.80358684,  305.38555088,  327.45491629,\n",
       "        351.11917342,  376.49358068,  403.70172586,  432.87612811,\n",
       "        464.15888336,  497.70235643,  533.66992312,  572.23676594,\n",
       "        613.59072734,  657.93322466,  705.48023107,  756.46332755,\n",
       "        811.13083079,  869.74900262,  932.60334688, 1000.        ]),\n",
       "        cv=5, scoring=&#x27;r2&#x27;)</pre></div></div></div></div></div>"
      ],
      "text/plain": [
       "RidgeCV(alphas=array([   1.        ,    1.07226722,    1.149757  ,    1.23284674,\n",
       "          1.32194115,    1.41747416,    1.51991108,    1.62975083,\n",
       "          1.7475284 ,    1.87381742,    2.009233  ,    2.15443469,\n",
       "          2.3101297 ,    2.47707636,    2.65608778,    2.84803587,\n",
       "          3.05385551,    3.27454916,    3.51119173,    3.76493581,\n",
       "          4.03701726,    4.32876128,    4.64158883,    4.97702356,\n",
       "          5.33669923,    5.72236766,    6.13590727,    6.57933225,\n",
       "          7.05480231,    7.56463328,    8.11130831,    8...\n",
       "        151.9911083 ,  162.97508346,  174.75284   ,  187.38174229,\n",
       "        200.92330026,  215.443469  ,  231.01297001,  247.7076356 ,\n",
       "        265.60877829,  284.80358684,  305.38555088,  327.45491629,\n",
       "        351.11917342,  376.49358068,  403.70172586,  432.87612811,\n",
       "        464.15888336,  497.70235643,  533.66992312,  572.23676594,\n",
       "        613.59072734,  657.93322466,  705.48023107,  756.46332755,\n",
       "        811.13083079,  869.74900262,  932.60334688, 1000.        ]),\n",
       "        cv=5, scoring='r2')"
      ]
     },
     "execution_count": 38,
     "metadata": {},
     "output_type": "execute_result"
    }
   ],
   "source": [
    "r_alphas = np.logspace(0,3,100)\n",
    "\n",
    "# Cross-validate over our list of ridge alphas.\n",
    "ridge_model = RidgeCV(alphas=r_alphas, cv = 5, scoring='r2')\n",
    "# Fit model using best ridge alpha!\n",
    "ridge_model.fit(X_train, y_train)"
   ]
  },
  {
   "cell_type": "code",
   "execution_count": 39,
   "id": "394e6c0a-85be-4eb6-9143-cac87b3e63e3",
   "metadata": {},
   "outputs": [
    {
     "name": "stdout",
     "output_type": "stream",
     "text": [
      "The train score for lasso model is 0.9282990746778413\n",
      "The test score for lasso model is 0.927615651356227\n",
      "0.07% difference\n"
     ]
    }
   ],
   "source": [
    "# And same for the other models \n",
    "#predict\n",
    "prediction_lasso = lasso_model.predict(X_test)\n",
    "\n",
    "#actual\n",
    "actual = y_test\n",
    "\n",
    "train_score_lasso = lasso_model.score(X_train, y_train)\n",
    "test_score_lasso = lasso_model.score(X_test, y_test)\n",
    "\n",
    "print(\"The train score for lasso model is {}\".format(train_score_lasso))\n",
    "print(\"The test score for lasso model is {}\".format(test_score_lasso))\n",
    "print(f\"{round(((train_score_lasso - test_score_lasso)*100),2)}% difference\")"
   ]
  },
  {
   "cell_type": "code",
   "execution_count": 40,
   "id": "7e196d23-08cf-46b1-a651-d2e344e2d196",
   "metadata": {},
   "outputs": [
    {
     "name": "stdout",
     "output_type": "stream",
     "text": [
      "The train score for ridge model is 0.9361103626754603\n",
      "The test score for ridge model is 0.9286080427137793\n",
      "0.75% difference\n"
     ]
    }
   ],
   "source": [
    "#predict\n",
    "prediction_ridge = ridge_model.predict(X_test)\n",
    "\n",
    "#actual\n",
    "actual = y_test\n",
    "\n",
    "train_score_ridge = ridge_model.score(X_train, y_train)\n",
    "test_score_ridge = ridge_model.score(X_test, y_test)\n",
    "\n",
    "print(\"The train score for ridge model is {}\".format(train_score_ridge))\n",
    "print(\"The test score for ridge model is {}\".format(test_score_ridge))\n",
    "print(f\"{round(((train_score_ridge - test_score_ridge)*100),2)}% difference\")"
   ]
  },
  {
   "cell_type": "markdown",
   "id": "02be67fe-1391-45d6-9e3d-0e05d24cb27b",
   "metadata": {},
   "source": [
    "# Error Metrics Section"
   ]
  },
  {
   "cell_type": "code",
   "execution_count": 41,
   "id": "3f53e475-005b-4507-9aac-16bc6f278121",
   "metadata": {},
   "outputs": [
    {
     "name": "stdout",
     "output_type": "stream",
     "text": [
      "MAE Ridge | 15264.692066931315\n"
     ]
    }
   ],
   "source": [
    "print(f\"MAE Ridge | {mean_absolute_error(y_test, prediction_ridge)}\")"
   ]
  },
  {
   "cell_type": "code",
   "execution_count": 42,
   "id": "0dcd36a9-a4a0-444e-bda0-0ed300e8dfb6",
   "metadata": {},
   "outputs": [
    {
     "name": "stdout",
     "output_type": "stream",
     "text": [
      "MAE Lasso | 14448.121266793032\n"
     ]
    }
   ],
   "source": [
    "print(f\"MAE Lasso | {mean_absolute_error(y_test, prediction_lasso)}\")"
   ]
  },
  {
   "cell_type": "code",
   "execution_count": 43,
   "id": "5b79a8e5-a51d-4c29-9c96-1c0ccabf24c1",
   "metadata": {},
   "outputs": [
    {
     "name": "stdout",
     "output_type": "stream",
     "text": [
      "MAE Linear | 17255.294797148545\n"
     ]
    }
   ],
   "source": [
    "print(f\"MAE Linear | {mean_absolute_error(y_test, prediction_lin)}\")"
   ]
  },
  {
   "cell_type": "code",
   "execution_count": 44,
   "id": "116889ef-e051-4e9b-a00a-25b8f2516f01",
   "metadata": {},
   "outputs": [
    {
     "data": {
      "text/plain": [
       "86579811155.35228"
      ]
     },
     "execution_count": 44,
     "metadata": {},
     "output_type": "execute_result"
    }
   ],
   "source": [
    "# RSS Ridge\n",
    "sum((y_test - prediction_ridge)**2)"
   ]
  },
  {
   "cell_type": "code",
   "execution_count": 45,
   "id": "8ab7e3fe-5e63-4cb2-b80e-e6ad2af02345",
   "metadata": {},
   "outputs": [
    {
     "data": {
      "text/plain": [
       "87783322861.64438"
      ]
     },
     "execution_count": 45,
     "metadata": {},
     "output_type": "execute_result"
    }
   ],
   "source": [
    "# RSS Lasso\n",
    "sum((y_test - prediction_lasso)**2)"
   ]
  },
  {
   "cell_type": "code",
   "execution_count": 46,
   "id": "09e214a7-fbaa-47b0-82bc-a15fe7e144cb",
   "metadata": {},
   "outputs": [
    {
     "data": {
      "text/plain": [
       "124744443722.68575"
      ]
     },
     "execution_count": 46,
     "metadata": {},
     "output_type": "execute_result"
    }
   ],
   "source": [
    "# RSS Linear\n",
    "sum((y_test - prediction_lin)**2)"
   ]
  },
  {
   "cell_type": "code",
   "execution_count": 47,
   "id": "603b86b6-8df9-477b-8ff1-33348b192491",
   "metadata": {},
   "outputs": [
    {
     "data": {
      "text/plain": [
       "420290345.4143317"
      ]
     },
     "execution_count": 47,
     "metadata": {},
     "output_type": "execute_result"
    }
   ],
   "source": [
    "# MSE Ridge\n",
    "mean_squared_error(y_test, prediction_ridge)"
   ]
  },
  {
   "cell_type": "code",
   "execution_count": 48,
   "id": "8366d12b-1e1e-4d4a-93b6-777e281f60a5",
   "metadata": {},
   "outputs": [
    {
     "data": {
      "text/plain": [
       "426132635.250701"
      ]
     },
     "execution_count": 48,
     "metadata": {},
     "output_type": "execute_result"
    }
   ],
   "source": [
    "# MSE Lasso\n",
    "mean_squared_error(y_test, prediction_lasso)"
   ]
  },
  {
   "cell_type": "code",
   "execution_count": 49,
   "id": "a5410052-949b-4fa0-ac4c-bf1a2836cdac",
   "metadata": {},
   "outputs": [
    {
     "data": {
      "text/plain": [
       "605555552.0518726"
      ]
     },
     "execution_count": 49,
     "metadata": {},
     "output_type": "execute_result"
    }
   ],
   "source": [
    "# MSE Linear\n",
    "mean_squared_error(y_test, prediction_lin)"
   ]
  },
  {
   "cell_type": "code",
   "execution_count": 50,
   "id": "7daf9adf-011d-474f-a6a2-d9de3b690ac6",
   "metadata": {},
   "outputs": [
    {
     "name": "stdout",
     "output_type": "stream",
     "text": [
      "RMSE Ridge | 20500.984010879372\n"
     ]
    }
   ],
   "source": [
    "# Root Mean Squared Error Ridge\n",
    "print(f\"RMSE Ridge | {np.sqrt(mean_squared_error(y_test, prediction_ridge))}\")"
   ]
  },
  {
   "cell_type": "code",
   "execution_count": 51,
   "id": "5b00a8f2-9900-462f-a1fa-1a6ed14bdf06",
   "metadata": {},
   "outputs": [
    {
     "name": "stdout",
     "output_type": "stream",
     "text": [
      "RMSE Lasso | 20642.98028993636\n"
     ]
    }
   ],
   "source": [
    "# Root Mean Squared Error Lasso\n",
    "print(f\"RMSE Lasso | {np.sqrt(mean_squared_error(y_test, prediction_lasso))}\")"
   ]
  },
  {
   "cell_type": "code",
   "execution_count": 52,
   "id": "1d7dc29e-dde1-43e4-9de7-1a795792211c",
   "metadata": {},
   "outputs": [
    {
     "name": "stdout",
     "output_type": "stream",
     "text": [
      "RMSE Linear | 24608.03836253253\n"
     ]
    }
   ],
   "source": [
    "# Root Mean Squared Error Linear\n",
    "print(f\"RMSE Linear | {np.sqrt(mean_squared_error(y_test, prediction_lin))}\")"
   ]
  },
  {
   "cell_type": "markdown",
   "id": "7f9ab47e-1451-4049-aa40-0fe870945730",
   "metadata": {},
   "source": [
    "# Export Section"
   ]
  },
  {
   "cell_type": "code",
   "execution_count": 53,
   "id": "e309440b-d634-40d1-9135-b412cab4e168",
   "metadata": {},
   "outputs": [
    {
     "data": {
      "text/plain": [
       "(2051, 306)"
      ]
     },
     "execution_count": 53,
     "metadata": {},
     "output_type": "execute_result"
    }
   ],
   "source": [
    "df.shape"
   ]
  },
  {
   "cell_type": "code",
   "execution_count": 54,
   "id": "a823cf90-23ee-4f26-998f-8cd53cdb0141",
   "metadata": {},
   "outputs": [
    {
     "data": {
      "text/plain": [
       "(878, 288)"
      ]
     },
     "execution_count": 54,
     "metadata": {},
     "output_type": "execute_result"
    }
   ],
   "source": [
    "kaggle_data.shape"
   ]
  },
  {
   "cell_type": "code",
   "execution_count": 55,
   "id": "36958a79-11d5-4544-8da8-f293c614d838",
   "metadata": {},
   "outputs": [
    {
     "data": {
      "text/plain": [
       "(1845, 819)"
      ]
     },
     "execution_count": 55,
     "metadata": {},
     "output_type": "execute_result"
    }
   ],
   "source": [
    "X_train.shape"
   ]
  },
  {
   "cell_type": "code",
   "execution_count": 56,
   "id": "46924acc-645a-4420-8364-8f4d952675dc",
   "metadata": {},
   "outputs": [
    {
     "data": {
      "text/plain": [
       "(206, 819)"
      ]
     },
     "execution_count": 56,
     "metadata": {},
     "output_type": "execute_result"
    }
   ],
   "source": [
    "X_test.shape"
   ]
  },
  {
   "cell_type": "code",
   "execution_count": 57,
   "id": "9c88a892-aef5-404b-aad5-1584ffd8a5ff",
   "metadata": {},
   "outputs": [],
   "source": [
    "kaggle_data[features] = ss.transform(kaggle_data[features])"
   ]
  },
  {
   "cell_type": "code",
   "execution_count": 58,
   "id": "1a14f491-3e2b-4118-a6da-ea0fe73037fc",
   "metadata": {},
   "outputs": [
    {
     "data": {
      "text/plain": [
       "Index(['Overall Qual', 'Gr Liv Area', 'Garage Area', 'Garage Cars',\n",
       "       'Total Bsmt SF', '1st Flr SF', 'Year Built', 'Year Remod/Add',\n",
       "       'Full Bath', 'Garage Yr Blt', 'TotRms AbvGrd', 'Mas Vnr Area',\n",
       "       'Fireplaces', 'BsmtFin SF 1', 'Wood Deck SF', 'Open Porch SF',\n",
       "       'After 2000', 'Exter Qual', 'Overall Qual',\n",
       "       'Gr Liv Area Times Garage Area', 'Kitchen Qual_Ex', 'Kitchen Qual_Fa',\n",
       "       'Kitchen Qual_Gd', 'Kitchen Qual_TA', 'Total Bsmt SF Times 1st Flr SF',\n",
       "       'Heating QC_Ex', 'Heating QC_Fa', 'Heating QC_Gd', 'Heating QC_TA',\n",
       "       '1st Flr SF Times 2nd Flr SF', 'Neighborhood_NridgHt',\n",
       "       'Neighborhood_Timber', 'Bsmt Full Bath', 'Neighborhood_StoneBr',\n",
       "       'Neighborhood_Somerst', 'Neighborhood_NoRidge', 'Not Kitchen Qual_TA',\n",
       "       'Not Heating QC_TA', 'Not Neighborhood_OldTown'],\n",
       "      dtype='object')"
      ]
     },
     "execution_count": 58,
     "metadata": {},
     "output_type": "execute_result"
    }
   ],
   "source": [
    "kaggle_data[features].columns"
   ]
  },
  {
   "cell_type": "code",
   "execution_count": 59,
   "id": "eba22501-beb2-4fa5-96e6-466dc7632335",
   "metadata": {},
   "outputs": [
    {
     "data": {
      "text/plain": [
       "(878, 39)"
      ]
     },
     "execution_count": 59,
     "metadata": {},
     "output_type": "execute_result"
    }
   ],
   "source": [
    "kaggle_data[features].shape"
   ]
  },
  {
   "cell_type": "markdown",
   "id": "2951f621-8edd-41e2-b840-5f84d28871af",
   "metadata": {},
   "source": [
    "##### Ignore following warning we have verified there are no conflicts"
   ]
  },
  {
   "cell_type": "code",
   "execution_count": 60,
   "id": "e11e7e77-dfa9-436c-a653-a9b58ef73e79",
   "metadata": {},
   "outputs": [
    {
     "name": "stderr",
     "output_type": "stream",
     "text": [
      "/Users/ben/miniforge3/lib/python3.10/site-packages/sklearn/base.py:457: UserWarning: X has feature names, but PolynomialFeatures was fitted without feature names\n",
      "  warnings.warn(\n"
     ]
    }
   ],
   "source": [
    "# Transform test kaggle data\n",
    "X_transformed = poly.transform(kaggle_data[features])  # X is your input data"
   ]
  },
  {
   "cell_type": "code",
   "execution_count": 61,
   "id": "bafc3ca3-fad3-4031-8fe8-4e995bcfa6b0",
   "metadata": {},
   "outputs": [
    {
     "data": {
      "text/plain": [
       "(878, 819)"
      ]
     },
     "execution_count": 61,
     "metadata": {},
     "output_type": "execute_result"
    }
   ],
   "source": [
    "X_transformed.shape"
   ]
  },
  {
   "cell_type": "code",
   "execution_count": 62,
   "id": "a6bd3f76-04ca-485d-bdd1-b7b4593c3dcf",
   "metadata": {},
   "outputs": [
    {
     "data": {
      "text/plain": [
       "Index(['Id', 'PID', 'MS SubClass', 'MS Zoning', 'Lot Frontage', 'Lot Area',\n",
       "       'Street', 'Alley', 'Lot Shape', 'Land Contour',\n",
       "       ...\n",
       "       'Misc Feature_Shed', 'Sale Type_CWD', 'Sale Type_Con',\n",
       "       'Sale Type_ConLD', 'Sale Type_ConLI', 'Sale Type_ConLw',\n",
       "       'Sale Type_New', 'Sale Type_Oth', 'Sale Type_VWD', 'Sale Type_WD '],\n",
       "      dtype='object', length=288)"
      ]
     },
     "execution_count": 62,
     "metadata": {},
     "output_type": "execute_result"
    }
   ],
   "source": [
    "kaggle_data.columns"
   ]
  },
  {
   "cell_type": "code",
   "execution_count": 63,
   "id": "402b4e8a-d606-4a3b-88ad-33e21813488a",
   "metadata": {},
   "outputs": [],
   "source": [
    "new_frame_to_pred = pd.DataFrame(X_transformed, columns=poly.get_feature_names_out(features))\n",
    "new_frame_to_pred;"
   ]
  },
  {
   "cell_type": "markdown",
   "id": "c695e596-f90a-4b47-9edb-905df1f3b9ff",
   "metadata": {},
   "source": [
    "# Only Run the Following Cell When You Are Ready to Export!"
   ]
  },
  {
   "cell_type": "markdown",
   "id": "cfd5996d-6309-40ca-9853-7a8ff4829bd5",
   "metadata": {},
   "source": [
    "Again, we ignore the warning as it turns out the problem has been \n",
    "resolved via indexing methods to confirm columns have been read in correctly. "
   ]
  },
  {
   "cell_type": "code",
   "execution_count": 64,
   "id": "1eb12f37-a578-42c8-9161-6b5694caf1a3",
   "metadata": {},
   "outputs": [],
   "source": [
    "# #Only uncomment to create file - currently needs renaming\n",
    "# submission = pd.DataFrame({'id': kaggle_data['Id']})\n",
    "# submission['SalePrice'] = lasso_model.predict(new_frame_to_pred)\n",
    "\n",
    "# submission.to_csv('../datasets/mean_submission_lasso_model_func_1835.csv', index=False)"
   ]
  }
 ],
 "metadata": {
  "kernelspec": {
   "display_name": "Python 3 (ipykernel)",
   "language": "python",
   "name": "python3"
  },
  "language_info": {
   "codemirror_mode": {
    "name": "ipython",
    "version": 3
   },
   "file_extension": ".py",
   "mimetype": "text/x-python",
   "name": "python",
   "nbconvert_exporter": "python",
   "pygments_lexer": "ipython3",
   "version": "3.10.13"
  }
 },
 "nbformat": 4,
 "nbformat_minor": 5
}
