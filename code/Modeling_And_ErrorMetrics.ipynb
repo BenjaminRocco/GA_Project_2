{
 "cells": [
  {
   "cell_type": "code",
   "execution_count": 105,
   "id": "5bfc36b3-b765-4b18-a892-b5f9c94811be",
   "metadata": {},
   "outputs": [],
   "source": [
    "# README FIRST : This it the modeling and training section from `MainCodingFile.ipynb`\n",
    "import pandas as pd\n",
    "import numpy as np\n",
    "import matplotlib.pyplot as plt\n",
    "from sklearn import metrics\n",
    "import seaborn as sns\n",
    "from sklearn.linear_model import LinearRegression, Ridge, RidgeCV, Lasso, LassoCV, LogisticRegression, LogisticRegressionCV\n",
    "from sklearn.preprocessing import PolynomialFeatures, StandardScaler\n",
    "from sklearn.preprocessing import OneHotEncoder\n",
    "import warnings\n",
    "from sklearn.model_selection import train_test_split, cross_val_score\n",
    "from sklearn.metrics import mean_absolute_error, mean_squared_error\n",
    "import warnings\n",
    "warnings.simplefilter(action='ignore', category=FutureWarning);\n",
    "from itertools import cycle\n",
    "\n",
    "# pd.set_option('display.expand_frame_repr', False)\n",
    "# pd.set_option('display.max_rows', 20)\n",
    "# pd.set_option('display.max_columns', 200)\n",
    "# pd.set_option('display.width', 20)\n",
    "%matplotlib inline"
   ]
  },
  {
   "cell_type": "code",
   "execution_count": 106,
   "id": "25d2281f-7341-4d9b-98e8-cb3a8d538b24",
   "metadata": {},
   "outputs": [
    {
     "data": {
      "text/plain": [
       "(2051, 143)"
      ]
     },
     "execution_count": 106,
     "metadata": {},
     "output_type": "execute_result"
    }
   ],
   "source": [
    "# train\n",
    "df = pd.read_csv('../datasets/cleaned_training_data.csv')\n",
    "df.shape"
   ]
  },
  {
   "cell_type": "code",
   "execution_count": 107,
   "id": "94c73e05-b5b1-4d73-bd56-a2e54a7120f2",
   "metadata": {},
   "outputs": [
    {
     "data": {
      "text/plain": [
       "(878, 143)"
      ]
     },
     "execution_count": 107,
     "metadata": {},
     "output_type": "execute_result"
    }
   ],
   "source": [
    "# test\n",
    "kaggle_data = pd.read_csv('../datasets/cleaned_testing_data.csv')\n",
    "kaggle_data.shape"
   ]
  },
  {
   "cell_type": "markdown",
   "id": "500a767f-0dc6-442b-821a-fde278edbf8f",
   "metadata": {},
   "source": [
    "## Training and Modeling Section With `Train.csv` file imported as `df`"
   ]
  },
  {
   "cell_type": "code",
   "execution_count": 108,
   "id": "7e38a3c4-fdc2-479f-934f-b0ddc27c1a47",
   "metadata": {},
   "outputs": [],
   "source": [
    "# After 2000 is our only dummy variable\n",
    "# Exter Qual is our only feature\n",
    "#'Gr Liv Area Times Garage Area' is an area booster\n",
    "# 'Total Bsmt SF Times 1st Flr SF' performed poorly and was deducted\n",
    "#Trying Dummies 01/13/2023\n",
    "#First Kitchen Quality \n",
    "#Second Heating Quality\n",
    "#Third Electrical Fuses - Do Not Use\n",
    "#Now try the externals: \n",
    "# take out 'Lot Frontage'\n",
    "# Now try the inverses\n",
    "\n",
    "features = ['Overall Qual', 'Gr Liv Area', 'Garage Area', 'Garage Cars','Total Bsmt SF',\n",
    "            '1st Flr SF','Year Built','Year Remod/Add','Full Bath','Garage Yr Blt','TotRms AbvGrd',\n",
    "            'Mas Vnr Area','Fireplaces','BsmtFin SF 1','Wood Deck SF','Open Porch SF',\n",
    "            'After 2000','Exter Qual','Overall Qual','Gr Liv Area Times Garage Area',\n",
    "            'Kitchen Qual_Ex','Kitchen Qual_Fa','Kitchen Qual_Gd','Kitchen Qual_TA','Total Bsmt SF Times 1st Flr SF',\n",
    "            'Heating QC_Ex','Heating QC_Fa','Heating QC_Gd','Heating QC_TA','1st Flr SF Times 2nd Flr SF',\n",
    "            'Neighborhood_NridgHt','Neighborhood_Timber','Bsmt Full Bath','Neighborhood_StoneBr',\n",
    "            'Neighborhood_Somerst','Neighborhood_NoRidge',\n",
    "            # 'Functional_Maj1','Functional_Maj2','Functional_Min1','Functional_Min2','Functional_Mod','Functional_Typ'\n",
    "            'Not Kitchen Qual_TA','Not Heating QC_TA','Not Neighborhood_OldTown','Not Heating QC_Gd','Not Kitchen Qual_Fa',\n",
    "            # 'Exterior 2nd_VinylSd','Exterior 1st_VinylSd','Exterior 2nd_CmentBd','Exterior 1st_CemntBd'         \n",
    "           ]\n",
    "\n",
    "X = df[features]\n",
    "y = df['SalePrice']\n",
    "\n",
    "X_train, X_test, y_train, y_test = train_test_split(X, y, random_state=42,\n",
    "                                                    train_size=0.90)"
   ]
  },
  {
   "cell_type": "code",
   "execution_count": 109,
   "id": "74ef217a-5c20-4f95-a1af-1d18c01d33e6",
   "metadata": {},
   "outputs": [],
   "source": [
    "ss = StandardScaler()\n",
    "\n",
    "X_train = ss.fit_transform(X_train)\n",
    "\n",
    "X_test = ss.transform(X_test)"
   ]
  },
  {
   "cell_type": "code",
   "execution_count": 110,
   "id": "f593cf39-50cb-4004-9ff2-9d465aac3ce7",
   "metadata": {},
   "outputs": [
    {
     "data": {
      "text/plain": [
       "Overall Qual                      0\n",
       "Gr Liv Area                       0\n",
       "Garage Area                       0\n",
       "Garage Cars                       0\n",
       "Total Bsmt SF                     0\n",
       "1st Flr SF                        0\n",
       "Year Built                        0\n",
       "Year Remod/Add                    0\n",
       "Full Bath                         0\n",
       "Garage Yr Blt                     0\n",
       "TotRms AbvGrd                     0\n",
       "Mas Vnr Area                      0\n",
       "Fireplaces                        0\n",
       "BsmtFin SF 1                      0\n",
       "Wood Deck SF                      0\n",
       "Open Porch SF                     0\n",
       "After 2000                        0\n",
       "Exter Qual                        0\n",
       "Overall Qual                      0\n",
       "Gr Liv Area Times Garage Area     0\n",
       "Kitchen Qual_Ex                   0\n",
       "Kitchen Qual_Fa                   0\n",
       "Kitchen Qual_Gd                   0\n",
       "Kitchen Qual_TA                   0\n",
       "Total Bsmt SF Times 1st Flr SF    0\n",
       "Heating QC_Ex                     0\n",
       "Heating QC_Fa                     0\n",
       "Heating QC_Gd                     0\n",
       "Heating QC_TA                     0\n",
       "1st Flr SF Times 2nd Flr SF       0\n",
       "Neighborhood_NridgHt              0\n",
       "Neighborhood_Timber               0\n",
       "Bsmt Full Bath                    0\n",
       "Neighborhood_StoneBr              0\n",
       "Neighborhood_Somerst              0\n",
       "Neighborhood_NoRidge              0\n",
       "Not Kitchen Qual_TA               0\n",
       "Not Heating QC_TA                 0\n",
       "Not Neighborhood_OldTown          0\n",
       "Not Heating QC_Gd                 0\n",
       "Not Kitchen Qual_Fa               0\n",
       "dtype: int64"
      ]
     },
     "execution_count": 110,
     "metadata": {},
     "output_type": "execute_result"
    }
   ],
   "source": [
    "df[features].isna().sum()"
   ]
  },
  {
   "cell_type": "code",
   "execution_count": 111,
   "id": "2eedb41d-6606-4e8f-a593-6ab3cfb30a2a",
   "metadata": {},
   "outputs": [
    {
     "data": {
      "text/html": [
       "<style>#sk-container-id-13 {color: black;}#sk-container-id-13 pre{padding: 0;}#sk-container-id-13 div.sk-toggleable {background-color: white;}#sk-container-id-13 label.sk-toggleable__label {cursor: pointer;display: block;width: 100%;margin-bottom: 0;padding: 0.3em;box-sizing: border-box;text-align: center;}#sk-container-id-13 label.sk-toggleable__label-arrow:before {content: \"▸\";float: left;margin-right: 0.25em;color: #696969;}#sk-container-id-13 label.sk-toggleable__label-arrow:hover:before {color: black;}#sk-container-id-13 div.sk-estimator:hover label.sk-toggleable__label-arrow:before {color: black;}#sk-container-id-13 div.sk-toggleable__content {max-height: 0;max-width: 0;overflow: hidden;text-align: left;background-color: #f0f8ff;}#sk-container-id-13 div.sk-toggleable__content pre {margin: 0.2em;color: black;border-radius: 0.25em;background-color: #f0f8ff;}#sk-container-id-13 input.sk-toggleable__control:checked~div.sk-toggleable__content {max-height: 200px;max-width: 100%;overflow: auto;}#sk-container-id-13 input.sk-toggleable__control:checked~label.sk-toggleable__label-arrow:before {content: \"▾\";}#sk-container-id-13 div.sk-estimator input.sk-toggleable__control:checked~label.sk-toggleable__label {background-color: #d4ebff;}#sk-container-id-13 div.sk-label input.sk-toggleable__control:checked~label.sk-toggleable__label {background-color: #d4ebff;}#sk-container-id-13 input.sk-hidden--visually {border: 0;clip: rect(1px 1px 1px 1px);clip: rect(1px, 1px, 1px, 1px);height: 1px;margin: -1px;overflow: hidden;padding: 0;position: absolute;width: 1px;}#sk-container-id-13 div.sk-estimator {font-family: monospace;background-color: #f0f8ff;border: 1px dotted black;border-radius: 0.25em;box-sizing: border-box;margin-bottom: 0.5em;}#sk-container-id-13 div.sk-estimator:hover {background-color: #d4ebff;}#sk-container-id-13 div.sk-parallel-item::after {content: \"\";width: 100%;border-bottom: 1px solid gray;flex-grow: 1;}#sk-container-id-13 div.sk-label:hover label.sk-toggleable__label {background-color: #d4ebff;}#sk-container-id-13 div.sk-serial::before {content: \"\";position: absolute;border-left: 1px solid gray;box-sizing: border-box;top: 0;bottom: 0;left: 50%;z-index: 0;}#sk-container-id-13 div.sk-serial {display: flex;flex-direction: column;align-items: center;background-color: white;padding-right: 0.2em;padding-left: 0.2em;position: relative;}#sk-container-id-13 div.sk-item {position: relative;z-index: 1;}#sk-container-id-13 div.sk-parallel {display: flex;align-items: stretch;justify-content: center;background-color: white;position: relative;}#sk-container-id-13 div.sk-item::before, #sk-container-id-13 div.sk-parallel-item::before {content: \"\";position: absolute;border-left: 1px solid gray;box-sizing: border-box;top: 0;bottom: 0;left: 50%;z-index: -1;}#sk-container-id-13 div.sk-parallel-item {display: flex;flex-direction: column;z-index: 1;position: relative;background-color: white;}#sk-container-id-13 div.sk-parallel-item:first-child::after {align-self: flex-end;width: 50%;}#sk-container-id-13 div.sk-parallel-item:last-child::after {align-self: flex-start;width: 50%;}#sk-container-id-13 div.sk-parallel-item:only-child::after {width: 0;}#sk-container-id-13 div.sk-dashed-wrapped {border: 1px dashed gray;margin: 0 0.4em 0.5em 0.4em;box-sizing: border-box;padding-bottom: 0.4em;background-color: white;}#sk-container-id-13 div.sk-label label {font-family: monospace;font-weight: bold;display: inline-block;line-height: 1.2em;}#sk-container-id-13 div.sk-label-container {text-align: center;}#sk-container-id-13 div.sk-container {/* jupyter's `normalize.less` sets `[hidden] { display: none; }` but bootstrap.min.css set `[hidden] { display: none !important; }` so we also need the `!important` here to be able to override the default hidden behavior on the sphinx rendered scikit-learn.org. See: https://github.com/scikit-learn/scikit-learn/issues/21755 */display: inline-block !important;position: relative;}#sk-container-id-13 div.sk-text-repr-fallback {display: none;}</style><div id=\"sk-container-id-13\" class=\"sk-top-container\"><div class=\"sk-text-repr-fallback\"><pre>LinearRegression()</pre><b>In a Jupyter environment, please rerun this cell to show the HTML representation or trust the notebook. <br />On GitHub, the HTML representation is unable to render, please try loading this page with nbviewer.org.</b></div><div class=\"sk-container\" hidden><div class=\"sk-item\"><div class=\"sk-estimator sk-toggleable\"><input class=\"sk-toggleable__control sk-hidden--visually\" id=\"sk-estimator-id-13\" type=\"checkbox\" checked><label for=\"sk-estimator-id-13\" class=\"sk-toggleable__label sk-toggleable__label-arrow\">LinearRegression</label><div class=\"sk-toggleable__content\"><pre>LinearRegression()</pre></div></div></div></div></div>"
      ],
      "text/plain": [
       "LinearRegression()"
      ]
     },
     "execution_count": 111,
     "metadata": {},
     "output_type": "execute_result"
    }
   ],
   "source": [
    "# Instantiate a linear regression model.\n",
    "linmod = LinearRegression()\n",
    "\n",
    "# Fit our linear regression model to the training data.\n",
    "linmod.fit(X_train,y_train)"
   ]
  },
  {
   "cell_type": "code",
   "execution_count": 112,
   "id": "00853a24-5f30-457c-bb94-c9052f1350c1",
   "metadata": {},
   "outputs": [],
   "source": [
    "lasso = Lasso()\n",
    "\n",
    "ridge = Ridge()"
   ]
  },
  {
   "cell_type": "code",
   "execution_count": 113,
   "id": "d4fac573-f266-4f84-bb9e-10b576fcfd69",
   "metadata": {},
   "outputs": [
    {
     "name": "stderr",
     "output_type": "stream",
     "text": [
      "/Users/ben/anaconda3/lib/python3.11/site-packages/sklearn/linear_model/_coordinate_descent.py:628: ConvergenceWarning: Objective did not converge. You might want to increase the number of iterations, check the scale of the features or consider increasing regularisation. Duality gap: 2.099e+11, tolerance: 1.166e+09\n",
      "  model = cd_fast.enet_coordinate_descent(\n"
     ]
    },
    {
     "data": {
      "text/html": [
       "<style>#sk-container-id-14 {color: black;}#sk-container-id-14 pre{padding: 0;}#sk-container-id-14 div.sk-toggleable {background-color: white;}#sk-container-id-14 label.sk-toggleable__label {cursor: pointer;display: block;width: 100%;margin-bottom: 0;padding: 0.3em;box-sizing: border-box;text-align: center;}#sk-container-id-14 label.sk-toggleable__label-arrow:before {content: \"▸\";float: left;margin-right: 0.25em;color: #696969;}#sk-container-id-14 label.sk-toggleable__label-arrow:hover:before {color: black;}#sk-container-id-14 div.sk-estimator:hover label.sk-toggleable__label-arrow:before {color: black;}#sk-container-id-14 div.sk-toggleable__content {max-height: 0;max-width: 0;overflow: hidden;text-align: left;background-color: #f0f8ff;}#sk-container-id-14 div.sk-toggleable__content pre {margin: 0.2em;color: black;border-radius: 0.25em;background-color: #f0f8ff;}#sk-container-id-14 input.sk-toggleable__control:checked~div.sk-toggleable__content {max-height: 200px;max-width: 100%;overflow: auto;}#sk-container-id-14 input.sk-toggleable__control:checked~label.sk-toggleable__label-arrow:before {content: \"▾\";}#sk-container-id-14 div.sk-estimator input.sk-toggleable__control:checked~label.sk-toggleable__label {background-color: #d4ebff;}#sk-container-id-14 div.sk-label input.sk-toggleable__control:checked~label.sk-toggleable__label {background-color: #d4ebff;}#sk-container-id-14 input.sk-hidden--visually {border: 0;clip: rect(1px 1px 1px 1px);clip: rect(1px, 1px, 1px, 1px);height: 1px;margin: -1px;overflow: hidden;padding: 0;position: absolute;width: 1px;}#sk-container-id-14 div.sk-estimator {font-family: monospace;background-color: #f0f8ff;border: 1px dotted black;border-radius: 0.25em;box-sizing: border-box;margin-bottom: 0.5em;}#sk-container-id-14 div.sk-estimator:hover {background-color: #d4ebff;}#sk-container-id-14 div.sk-parallel-item::after {content: \"\";width: 100%;border-bottom: 1px solid gray;flex-grow: 1;}#sk-container-id-14 div.sk-label:hover label.sk-toggleable__label {background-color: #d4ebff;}#sk-container-id-14 div.sk-serial::before {content: \"\";position: absolute;border-left: 1px solid gray;box-sizing: border-box;top: 0;bottom: 0;left: 50%;z-index: 0;}#sk-container-id-14 div.sk-serial {display: flex;flex-direction: column;align-items: center;background-color: white;padding-right: 0.2em;padding-left: 0.2em;position: relative;}#sk-container-id-14 div.sk-item {position: relative;z-index: 1;}#sk-container-id-14 div.sk-parallel {display: flex;align-items: stretch;justify-content: center;background-color: white;position: relative;}#sk-container-id-14 div.sk-item::before, #sk-container-id-14 div.sk-parallel-item::before {content: \"\";position: absolute;border-left: 1px solid gray;box-sizing: border-box;top: 0;bottom: 0;left: 50%;z-index: -1;}#sk-container-id-14 div.sk-parallel-item {display: flex;flex-direction: column;z-index: 1;position: relative;background-color: white;}#sk-container-id-14 div.sk-parallel-item:first-child::after {align-self: flex-end;width: 50%;}#sk-container-id-14 div.sk-parallel-item:last-child::after {align-self: flex-start;width: 50%;}#sk-container-id-14 div.sk-parallel-item:only-child::after {width: 0;}#sk-container-id-14 div.sk-dashed-wrapped {border: 1px dashed gray;margin: 0 0.4em 0.5em 0.4em;box-sizing: border-box;padding-bottom: 0.4em;background-color: white;}#sk-container-id-14 div.sk-label label {font-family: monospace;font-weight: bold;display: inline-block;line-height: 1.2em;}#sk-container-id-14 div.sk-label-container {text-align: center;}#sk-container-id-14 div.sk-container {/* jupyter's `normalize.less` sets `[hidden] { display: none; }` but bootstrap.min.css set `[hidden] { display: none !important; }` so we also need the `!important` here to be able to override the default hidden behavior on the sphinx rendered scikit-learn.org. See: https://github.com/scikit-learn/scikit-learn/issues/21755 */display: inline-block !important;position: relative;}#sk-container-id-14 div.sk-text-repr-fallback {display: none;}</style><div id=\"sk-container-id-14\" class=\"sk-top-container\"><div class=\"sk-text-repr-fallback\"><pre>Lasso()</pre><b>In a Jupyter environment, please rerun this cell to show the HTML representation or trust the notebook. <br />On GitHub, the HTML representation is unable to render, please try loading this page with nbviewer.org.</b></div><div class=\"sk-container\" hidden><div class=\"sk-item\"><div class=\"sk-estimator sk-toggleable\"><input class=\"sk-toggleable__control sk-hidden--visually\" id=\"sk-estimator-id-14\" type=\"checkbox\" checked><label for=\"sk-estimator-id-14\" class=\"sk-toggleable__label sk-toggleable__label-arrow\">Lasso</label><div class=\"sk-toggleable__content\"><pre>Lasso()</pre></div></div></div></div></div>"
      ],
      "text/plain": [
       "Lasso()"
      ]
     },
     "execution_count": 113,
     "metadata": {},
     "output_type": "execute_result"
    }
   ],
   "source": [
    "lasso.fit(X_train,y_train)"
   ]
  },
  {
   "cell_type": "code",
   "execution_count": 114,
   "id": "098be989-eabe-422b-8040-2ff904dde60e",
   "metadata": {},
   "outputs": [
    {
     "data": {
      "text/html": [
       "<style>#sk-container-id-15 {color: black;}#sk-container-id-15 pre{padding: 0;}#sk-container-id-15 div.sk-toggleable {background-color: white;}#sk-container-id-15 label.sk-toggleable__label {cursor: pointer;display: block;width: 100%;margin-bottom: 0;padding: 0.3em;box-sizing: border-box;text-align: center;}#sk-container-id-15 label.sk-toggleable__label-arrow:before {content: \"▸\";float: left;margin-right: 0.25em;color: #696969;}#sk-container-id-15 label.sk-toggleable__label-arrow:hover:before {color: black;}#sk-container-id-15 div.sk-estimator:hover label.sk-toggleable__label-arrow:before {color: black;}#sk-container-id-15 div.sk-toggleable__content {max-height: 0;max-width: 0;overflow: hidden;text-align: left;background-color: #f0f8ff;}#sk-container-id-15 div.sk-toggleable__content pre {margin: 0.2em;color: black;border-radius: 0.25em;background-color: #f0f8ff;}#sk-container-id-15 input.sk-toggleable__control:checked~div.sk-toggleable__content {max-height: 200px;max-width: 100%;overflow: auto;}#sk-container-id-15 input.sk-toggleable__control:checked~label.sk-toggleable__label-arrow:before {content: \"▾\";}#sk-container-id-15 div.sk-estimator input.sk-toggleable__control:checked~label.sk-toggleable__label {background-color: #d4ebff;}#sk-container-id-15 div.sk-label input.sk-toggleable__control:checked~label.sk-toggleable__label {background-color: #d4ebff;}#sk-container-id-15 input.sk-hidden--visually {border: 0;clip: rect(1px 1px 1px 1px);clip: rect(1px, 1px, 1px, 1px);height: 1px;margin: -1px;overflow: hidden;padding: 0;position: absolute;width: 1px;}#sk-container-id-15 div.sk-estimator {font-family: monospace;background-color: #f0f8ff;border: 1px dotted black;border-radius: 0.25em;box-sizing: border-box;margin-bottom: 0.5em;}#sk-container-id-15 div.sk-estimator:hover {background-color: #d4ebff;}#sk-container-id-15 div.sk-parallel-item::after {content: \"\";width: 100%;border-bottom: 1px solid gray;flex-grow: 1;}#sk-container-id-15 div.sk-label:hover label.sk-toggleable__label {background-color: #d4ebff;}#sk-container-id-15 div.sk-serial::before {content: \"\";position: absolute;border-left: 1px solid gray;box-sizing: border-box;top: 0;bottom: 0;left: 50%;z-index: 0;}#sk-container-id-15 div.sk-serial {display: flex;flex-direction: column;align-items: center;background-color: white;padding-right: 0.2em;padding-left: 0.2em;position: relative;}#sk-container-id-15 div.sk-item {position: relative;z-index: 1;}#sk-container-id-15 div.sk-parallel {display: flex;align-items: stretch;justify-content: center;background-color: white;position: relative;}#sk-container-id-15 div.sk-item::before, #sk-container-id-15 div.sk-parallel-item::before {content: \"\";position: absolute;border-left: 1px solid gray;box-sizing: border-box;top: 0;bottom: 0;left: 50%;z-index: -1;}#sk-container-id-15 div.sk-parallel-item {display: flex;flex-direction: column;z-index: 1;position: relative;background-color: white;}#sk-container-id-15 div.sk-parallel-item:first-child::after {align-self: flex-end;width: 50%;}#sk-container-id-15 div.sk-parallel-item:last-child::after {align-self: flex-start;width: 50%;}#sk-container-id-15 div.sk-parallel-item:only-child::after {width: 0;}#sk-container-id-15 div.sk-dashed-wrapped {border: 1px dashed gray;margin: 0 0.4em 0.5em 0.4em;box-sizing: border-box;padding-bottom: 0.4em;background-color: white;}#sk-container-id-15 div.sk-label label {font-family: monospace;font-weight: bold;display: inline-block;line-height: 1.2em;}#sk-container-id-15 div.sk-label-container {text-align: center;}#sk-container-id-15 div.sk-container {/* jupyter's `normalize.less` sets `[hidden] { display: none; }` but bootstrap.min.css set `[hidden] { display: none !important; }` so we also need the `!important` here to be able to override the default hidden behavior on the sphinx rendered scikit-learn.org. See: https://github.com/scikit-learn/scikit-learn/issues/21755 */display: inline-block !important;position: relative;}#sk-container-id-15 div.sk-text-repr-fallback {display: none;}</style><div id=\"sk-container-id-15\" class=\"sk-top-container\"><div class=\"sk-text-repr-fallback\"><pre>Ridge()</pre><b>In a Jupyter environment, please rerun this cell to show the HTML representation or trust the notebook. <br />On GitHub, the HTML representation is unable to render, please try loading this page with nbviewer.org.</b></div><div class=\"sk-container\" hidden><div class=\"sk-item\"><div class=\"sk-estimator sk-toggleable\"><input class=\"sk-toggleable__control sk-hidden--visually\" id=\"sk-estimator-id-15\" type=\"checkbox\" checked><label for=\"sk-estimator-id-15\" class=\"sk-toggleable__label sk-toggleable__label-arrow\">Ridge</label><div class=\"sk-toggleable__content\"><pre>Ridge()</pre></div></div></div></div></div>"
      ],
      "text/plain": [
       "Ridge()"
      ]
     },
     "execution_count": 114,
     "metadata": {},
     "output_type": "execute_result"
    }
   ],
   "source": [
    "ridge.fit(X_train,y_train)"
   ]
  },
  {
   "cell_type": "code",
   "execution_count": 115,
   "id": "bd894872-0b5c-4b62-8d87-d91a58e85328",
   "metadata": {},
   "outputs": [
    {
     "name": "stdout",
     "output_type": "stream",
     "text": [
      "Intercept: 182067.08243825886\n",
      "Coefficient: [-3.13081490e+17  1.30560000e+04 -9.18000000e+03  1.84800000e+03\n",
      "  2.73520000e+04  1.29380000e+04  3.05200000e+03  4.92800000e+03\n",
      " -6.60000000e+02 -8.26000000e+02  2.08800000e+03  4.11200000e+03\n",
      "  5.52400000e+03  8.21400000e+03  2.02600000e+03  7.04000000e+02\n",
      "  2.33400000e+03  2.55600000e+03  3.13081490e+17  2.57000000e+04\n",
      "  1.17597947e+16  5.64178372e+15  2.17000952e+16  1.13123286e+16\n",
      " -4.20180000e+04  2.31800000e+03 -2.05000000e+02 -1.24741331e+16\n",
      "  1.01936407e+15 -5.29000000e+03  6.67200000e+03  1.64900000e+03\n",
      "  1.33200000e+03  6.62700000e+03  1.78200000e+03  4.58800000e+03\n",
      " -1.08906773e+16  1.01936407e+15  1.84200000e+03 -1.24741331e+16\n",
      " -1.20861802e+15]\n"
     ]
    }
   ],
   "source": [
    "# Print out intercept and coefficients.\n",
    "print(f'Intercept: {linmod.intercept_}')\n",
    "print(f'Coefficient: {linmod.coef_}')"
   ]
  },
  {
   "cell_type": "code",
   "execution_count": 116,
   "id": "de42c0fd-a31c-45df-baad-5f737e207a63",
   "metadata": {},
   "outputs": [
    {
     "name": "stdout",
     "output_type": "stream",
     "text": [
      "Intercept: 182064.33983739838\n",
      "Coefficient: [ 53610.58223761  13120.8993276   -8941.22556988   1794.59714411\n",
      "  27312.03077414  13023.82925121   3071.0005371    4942.23975473\n",
      "   -646.11723115   -814.38818254   2141.58656879   4064.47013727\n",
      "   5479.83632411   8250.35337995   2045.31782742    724.36876476\n",
      "   2356.74356084   2566.96191882 -37140.23874796  25666.67845776\n",
      "   9393.79000774    544.37636934  -3828.46073962      0.\n",
      " -41962.71759563   1970.7438204    -345.21974489      0.\n",
      "  -3096.62651002  -5230.43949614   6674.68270039   1645.31652986\n",
      "   1351.90752435   6645.271325     1733.32982387   4591.59887088\n",
      "   4475.3322855   -1581.41581844   1862.67217958   -500.87535242\n",
      "   1255.85781907]\n"
     ]
    }
   ],
   "source": [
    "# Print out intercept and coefficients - lasso\n",
    "print(f'Intercept: {lasso.intercept_}')\n",
    "print(f'Coefficient: {lasso.coef_}')"
   ]
  },
  {
   "cell_type": "code",
   "execution_count": 117,
   "id": "e37e7a4e-4b79-4d34-952f-7611fa714141",
   "metadata": {},
   "outputs": [
    {
     "name": "stdout",
     "output_type": "stream",
     "text": [
      "Intercept: 182064.33983739838\n",
      "Coefficient: [  8238.29025155  13074.06079196  -8453.98470069   1775.19224815\n",
      "  26959.50492873  13077.90613859   3075.10542402   4920.29503142\n",
      "   -623.03654335   -817.40244309   2158.29535532   4072.28385672\n",
      "   5491.02427805   8219.17556337   2044.39500195    729.31543818\n",
      "   2350.61363386   2578.60748203   8238.29025156  24898.79522378\n",
      "   9735.38880003   -260.53201342  -3218.40802589  -1930.44422955\n",
      " -41411.90936714   2302.31926173   -233.7079021     367.87340166\n",
      "   -612.28088993  -4934.60434853   6700.87734564   1651.94299916\n",
      "   1380.73306896   6654.75029077   1735.73353533   4612.39808279\n",
      "   1930.44422955    612.28088995   1869.85601425   -367.87340165\n",
      "    260.53201341]\n"
     ]
    }
   ],
   "source": [
    "# Print out intercept and coefficients - ridge\n",
    "print(f'Intercept: {ridge.intercept_}')\n",
    "print(f'Coefficient: {ridge.coef_}')"
   ]
  },
  {
   "cell_type": "code",
   "execution_count": 118,
   "id": "d1592055-27de-4f9e-859b-61adcc47ec38",
   "metadata": {},
   "outputs": [
    {
     "name": "stdout",
     "output_type": "stream",
     "text": [
      "The train score for lin model is 0.8731715533558253\n",
      "The test score for lin model is 0.8965660586628933\n"
     ]
    }
   ],
   "source": [
    "#predict\n",
    "prediction_lin = linmod.predict(X_test)\n",
    "\n",
    "#actual\n",
    "actual = y_test\n",
    "\n",
    "train_score_lin = linmod.score(X_train, y_train)\n",
    "test_score_lin = linmod.score(X_test, y_test)\n",
    "\n",
    "print(\"The train score for lin model is {}\".format(train_score_lin))\n",
    "print(\"The test score for lin model is {}\".format(test_score_lin))"
   ]
  },
  {
   "cell_type": "code",
   "execution_count": 119,
   "id": "96a1ccc7-d633-4799-8432-492e6e8bf3b1",
   "metadata": {},
   "outputs": [
    {
     "name": "stdout",
     "output_type": "stream",
     "text": [
      "The train score for lasso model is 0.873217516975112\n",
      "The test score for lasso model is 0.8967217450689359\n"
     ]
    }
   ],
   "source": [
    "# And same for the other models \n",
    "#predict\n",
    "prediction_lasso = lasso.predict(X_test)\n",
    "\n",
    "#actual\n",
    "actual = y_test\n",
    "\n",
    "train_score_lasso = lasso.score(X_train, y_train)\n",
    "test_score_lasso = lasso.score(X_test, y_test)\n",
    "\n",
    "print(\"The train score for lasso model is {}\".format(train_score_lasso))\n",
    "print(\"The test score for lasso model is {}\".format(test_score_lasso))"
   ]
  },
  {
   "cell_type": "code",
   "execution_count": 120,
   "id": "94dbe4fe-2ecc-4f16-97c5-b3c75c3dc8de",
   "metadata": {},
   "outputs": [
    {
     "name": "stdout",
     "output_type": "stream",
     "text": [
      "The train score for ridge model is 0.8732124403462712\n",
      "The test score for ridge model is 0.8967142060745604\n"
     ]
    }
   ],
   "source": [
    "#predict\n",
    "prediction_ridge = ridge.predict(X_test)\n",
    "\n",
    "#actual\n",
    "actual = y_test\n",
    "\n",
    "train_score_ridge = ridge.score(X_train, y_train)\n",
    "test_score_ridge = ridge.score(X_test, y_test)\n",
    "\n",
    "print(\"The train score for ridge model is {}\".format(train_score_ridge))\n",
    "print(\"The test score for ridge model is {}\".format(test_score_ridge))"
   ]
  },
  {
   "cell_type": "markdown",
   "id": "b77eb702-7ab7-438f-bbe2-dadae94725b1",
   "metadata": {},
   "source": [
    "# Other Fits"
   ]
  },
  {
   "cell_type": "markdown",
   "id": "8b79a87d-4d99-4599-8b5a-1f6150c410aa",
   "metadata": {},
   "source": [
    "A look at non-linearity, polynomial features for a better characteristic equation. "
   ]
  },
  {
   "cell_type": "code",
   "execution_count": 121,
   "id": "c2a34dd1-32b9-428f-98ee-5854f24fc24b",
   "metadata": {},
   "outputs": [],
   "source": [
    "poly = PolynomialFeatures(degree=2,include_bias=False)"
   ]
  },
  {
   "cell_type": "code",
   "execution_count": 122,
   "id": "169d2252-c1e9-4101-8e8c-7cec6f00aca3",
   "metadata": {},
   "outputs": [],
   "source": [
    "X_train = poly.fit_transform(X_train)\n",
    "\n",
    "X_test = poly.transform(X_test)"
   ]
  },
  {
   "cell_type": "markdown",
   "id": "2a20d05d-9045-4ecf-8a66-3c93b17ac9f1",
   "metadata": {},
   "source": [
    "Cubed order units $\\text{m}^3$ term present in characteristic equation. "
   ]
  },
  {
   "cell_type": "code",
   "execution_count": 123,
   "id": "13733f3c-0ed7-4e52-9f52-f91623f4d3e8",
   "metadata": {},
   "outputs": [
    {
     "data": {
      "text/html": [
       "<div>\n",
       "<style scoped>\n",
       "    .dataframe tbody tr th:only-of-type {\n",
       "        vertical-align: middle;\n",
       "    }\n",
       "\n",
       "    .dataframe tbody tr th {\n",
       "        vertical-align: top;\n",
       "    }\n",
       "\n",
       "    .dataframe thead th {\n",
       "        text-align: right;\n",
       "    }\n",
       "</style>\n",
       "<table border=\"1\" class=\"dataframe\">\n",
       "  <thead>\n",
       "    <tr style=\"text-align: right;\">\n",
       "      <th></th>\n",
       "      <th>Overall Qual</th>\n",
       "      <th>Gr Liv Area</th>\n",
       "      <th>Garage Area</th>\n",
       "      <th>Garage Cars</th>\n",
       "      <th>Total Bsmt SF</th>\n",
       "      <th>1st Flr SF</th>\n",
       "      <th>Year Built</th>\n",
       "      <th>Year Remod/Add</th>\n",
       "      <th>Full Bath</th>\n",
       "      <th>Garage Yr Blt</th>\n",
       "      <th>...</th>\n",
       "      <th>Not Heating QC_TA^2</th>\n",
       "      <th>Not Heating QC_TA Not Neighborhood_OldTown</th>\n",
       "      <th>Not Heating QC_TA Not Heating QC_Gd</th>\n",
       "      <th>Not Heating QC_TA Not Kitchen Qual_Fa</th>\n",
       "      <th>Not Neighborhood_OldTown^2</th>\n",
       "      <th>Not Neighborhood_OldTown Not Heating QC_Gd</th>\n",
       "      <th>Not Neighborhood_OldTown Not Kitchen Qual_Fa</th>\n",
       "      <th>Not Heating QC_Gd^2</th>\n",
       "      <th>Not Heating QC_Gd Not Kitchen Qual_Fa</th>\n",
       "      <th>Not Kitchen Qual_Fa^2</th>\n",
       "    </tr>\n",
       "  </thead>\n",
       "  <tbody>\n",
       "    <tr>\n",
       "      <th>0</th>\n",
       "      <td>-0.087867</td>\n",
       "      <td>-0.092674</td>\n",
       "      <td>-0.160350</td>\n",
       "      <td>0.284946</td>\n",
       "      <td>-0.744292</td>\n",
       "      <td>-1.094699</td>\n",
       "      <td>0.903219</td>\n",
       "      <td>0.702821</td>\n",
       "      <td>0.758359</td>\n",
       "      <td>0.813922</td>\n",
       "      <td>...</td>\n",
       "      <td>0.408397</td>\n",
       "      <td>0.190109</td>\n",
       "      <td>-1.470799</td>\n",
       "      <td>0.101044</td>\n",
       "      <td>0.088496</td>\n",
       "      <td>-0.684657</td>\n",
       "      <td>0.047036</td>\n",
       "      <td>5.296928</td>\n",
       "      <td>-0.3639</td>\n",
       "      <td>0.025</td>\n",
       "    </tr>\n",
       "    <tr>\n",
       "      <th>1</th>\n",
       "      <td>-0.789661</td>\n",
       "      <td>0.467060</td>\n",
       "      <td>-1.146504</td>\n",
       "      <td>-1.016354</td>\n",
       "      <td>-0.282279</td>\n",
       "      <td>-0.516266</td>\n",
       "      <td>-1.701364</td>\n",
       "      <td>-1.621532</td>\n",
       "      <td>-1.051695</td>\n",
       "      <td>-2.354445</td>\n",
       "      <td>...</td>\n",
       "      <td>0.408397</td>\n",
       "      <td>-2.148228</td>\n",
       "      <td>-1.470799</td>\n",
       "      <td>0.101044</td>\n",
       "      <td>11.300000</td>\n",
       "      <td>7.736620</td>\n",
       "      <td>-0.531507</td>\n",
       "      <td>5.296928</td>\n",
       "      <td>-0.3639</td>\n",
       "      <td>0.025</td>\n",
       "    </tr>\n",
       "    <tr>\n",
       "      <th>2</th>\n",
       "      <td>-0.789661</td>\n",
       "      <td>-0.985866</td>\n",
       "      <td>-0.894232</td>\n",
       "      <td>-1.016354</td>\n",
       "      <td>-0.121578</td>\n",
       "      <td>-0.396072</td>\n",
       "      <td>-0.646343</td>\n",
       "      <td>0.892564</td>\n",
       "      <td>-1.051695</td>\n",
       "      <td>-1.071056</td>\n",
       "      <td>...</td>\n",
       "      <td>0.408397</td>\n",
       "      <td>0.190109</td>\n",
       "      <td>0.277670</td>\n",
       "      <td>0.101044</td>\n",
       "      <td>0.088496</td>\n",
       "      <td>0.129255</td>\n",
       "      <td>0.047036</td>\n",
       "      <td>0.188789</td>\n",
       "      <td>0.0687</td>\n",
       "      <td>0.025</td>\n",
       "    </tr>\n",
       "    <tr>\n",
       "      <th>3</th>\n",
       "      <td>0.613927</td>\n",
       "      <td>-0.318949</td>\n",
       "      <td>1.417496</td>\n",
       "      <td>2.887546</td>\n",
       "      <td>0.628357</td>\n",
       "      <td>0.445285</td>\n",
       "      <td>0.837280</td>\n",
       "      <td>0.655385</td>\n",
       "      <td>0.758359</td>\n",
       "      <td>0.733710</td>\n",
       "      <td>...</td>\n",
       "      <td>0.408397</td>\n",
       "      <td>0.190109</td>\n",
       "      <td>0.277670</td>\n",
       "      <td>0.101044</td>\n",
       "      <td>0.088496</td>\n",
       "      <td>0.129255</td>\n",
       "      <td>0.047036</td>\n",
       "      <td>0.188789</td>\n",
       "      <td>0.0687</td>\n",
       "      <td>0.025</td>\n",
       "    </tr>\n",
       "    <tr>\n",
       "      <th>4</th>\n",
       "      <td>-0.087867</td>\n",
       "      <td>-0.414223</td>\n",
       "      <td>0.463450</td>\n",
       "      <td>0.284946</td>\n",
       "      <td>-0.485386</td>\n",
       "      <td>-0.751646</td>\n",
       "      <td>-1.470578</td>\n",
       "      <td>-1.621532</td>\n",
       "      <td>-1.051695</td>\n",
       "      <td>0.051909</td>\n",
       "      <td>...</td>\n",
       "      <td>2.448598</td>\n",
       "      <td>5.260148</td>\n",
       "      <td>-0.679903</td>\n",
       "      <td>-0.247417</td>\n",
       "      <td>11.300000</td>\n",
       "      <td>-1.460586</td>\n",
       "      <td>-0.531507</td>\n",
       "      <td>0.188789</td>\n",
       "      <td>0.0687</td>\n",
       "      <td>0.025</td>\n",
       "    </tr>\n",
       "    <tr>\n",
       "      <th>...</th>\n",
       "      <td>...</td>\n",
       "      <td>...</td>\n",
       "      <td>...</td>\n",
       "      <td>...</td>\n",
       "      <td>...</td>\n",
       "      <td>...</td>\n",
       "      <td>...</td>\n",
       "      <td>...</td>\n",
       "      <td>...</td>\n",
       "      <td>...</td>\n",
       "      <td>...</td>\n",
       "      <td>...</td>\n",
       "      <td>...</td>\n",
       "      <td>...</td>\n",
       "      <td>...</td>\n",
       "      <td>...</td>\n",
       "      <td>...</td>\n",
       "      <td>...</td>\n",
       "      <td>...</td>\n",
       "      <td>...</td>\n",
       "      <td>...</td>\n",
       "    </tr>\n",
       "    <tr>\n",
       "      <th>1840</th>\n",
       "      <td>1.315721</td>\n",
       "      <td>1.181614</td>\n",
       "      <td>1.426670</td>\n",
       "      <td>1.586246</td>\n",
       "      <td>-0.322454</td>\n",
       "      <td>-0.521274</td>\n",
       "      <td>1.166974</td>\n",
       "      <td>1.082307</td>\n",
       "      <td>0.758359</td>\n",
       "      <td>1.134769</td>\n",
       "      <td>...</td>\n",
       "      <td>0.408397</td>\n",
       "      <td>0.190109</td>\n",
       "      <td>0.277670</td>\n",
       "      <td>0.101044</td>\n",
       "      <td>0.088496</td>\n",
       "      <td>0.129255</td>\n",
       "      <td>0.047036</td>\n",
       "      <td>0.188789</td>\n",
       "      <td>0.0687</td>\n",
       "      <td>0.025</td>\n",
       "    </tr>\n",
       "    <tr>\n",
       "      <th>1841</th>\n",
       "      <td>-0.087867</td>\n",
       "      <td>-0.612710</td>\n",
       "      <td>-0.816257</td>\n",
       "      <td>-1.016354</td>\n",
       "      <td>0.298028</td>\n",
       "      <td>0.074687</td>\n",
       "      <td>-0.514466</td>\n",
       "      <td>-1.336917</td>\n",
       "      <td>-1.051695</td>\n",
       "      <td>-0.910632</td>\n",
       "      <td>...</td>\n",
       "      <td>0.408397</td>\n",
       "      <td>0.190109</td>\n",
       "      <td>-1.470799</td>\n",
       "      <td>0.101044</td>\n",
       "      <td>0.088496</td>\n",
       "      <td>-0.684657</td>\n",
       "      <td>0.047036</td>\n",
       "      <td>5.296928</td>\n",
       "      <td>-0.3639</td>\n",
       "      <td>0.025</td>\n",
       "    </tr>\n",
       "    <tr>\n",
       "      <th>1842</th>\n",
       "      <td>-0.087867</td>\n",
       "      <td>-0.388419</td>\n",
       "      <td>0.041467</td>\n",
       "      <td>0.284946</td>\n",
       "      <td>-0.050156</td>\n",
       "      <td>0.357643</td>\n",
       "      <td>0.078984</td>\n",
       "      <td>0.702821</td>\n",
       "      <td>-1.051695</td>\n",
       "      <td>-0.188726</td>\n",
       "      <td>...</td>\n",
       "      <td>0.408397</td>\n",
       "      <td>0.190109</td>\n",
       "      <td>0.277670</td>\n",
       "      <td>0.101044</td>\n",
       "      <td>0.088496</td>\n",
       "      <td>0.129255</td>\n",
       "      <td>0.047036</td>\n",
       "      <td>0.188789</td>\n",
       "      <td>0.0687</td>\n",
       "      <td>0.025</td>\n",
       "    </tr>\n",
       "    <tr>\n",
       "      <th>1843</th>\n",
       "      <td>-0.087867</td>\n",
       "      <td>-1.027548</td>\n",
       "      <td>-0.894232</td>\n",
       "      <td>-1.016354</td>\n",
       "      <td>-1.293352</td>\n",
       "      <td>-1.710692</td>\n",
       "      <td>-0.052894</td>\n",
       "      <td>-0.672817</td>\n",
       "      <td>-1.051695</td>\n",
       "      <td>0.332651</td>\n",
       "      <td>...</td>\n",
       "      <td>2.448598</td>\n",
       "      <td>-0.465500</td>\n",
       "      <td>-0.679903</td>\n",
       "      <td>-0.247417</td>\n",
       "      <td>0.088496</td>\n",
       "      <td>0.129255</td>\n",
       "      <td>0.047036</td>\n",
       "      <td>0.188789</td>\n",
       "      <td>0.0687</td>\n",
       "      <td>0.025</td>\n",
       "    </tr>\n",
       "    <tr>\n",
       "      <th>1844</th>\n",
       "      <td>0.613927</td>\n",
       "      <td>0.040313</td>\n",
       "      <td>0.302913</td>\n",
       "      <td>0.284946</td>\n",
       "      <td>1.032339</td>\n",
       "      <td>0.898515</td>\n",
       "      <td>0.936188</td>\n",
       "      <td>0.750256</td>\n",
       "      <td>0.758359</td>\n",
       "      <td>0.854027</td>\n",
       "      <td>...</td>\n",
       "      <td>0.408397</td>\n",
       "      <td>0.190109</td>\n",
       "      <td>0.277670</td>\n",
       "      <td>0.101044</td>\n",
       "      <td>0.088496</td>\n",
       "      <td>0.129255</td>\n",
       "      <td>0.047036</td>\n",
       "      <td>0.188789</td>\n",
       "      <td>0.0687</td>\n",
       "      <td>0.025</td>\n",
       "    </tr>\n",
       "  </tbody>\n",
       "</table>\n",
       "<p>1845 rows × 902 columns</p>\n",
       "</div>"
      ],
      "text/plain": [
       "      Overall Qual  Gr Liv Area  Garage Area  Garage Cars  Total Bsmt SF  \\\n",
       "0        -0.087867    -0.092674    -0.160350     0.284946      -0.744292   \n",
       "1        -0.789661     0.467060    -1.146504    -1.016354      -0.282279   \n",
       "2        -0.789661    -0.985866    -0.894232    -1.016354      -0.121578   \n",
       "3         0.613927    -0.318949     1.417496     2.887546       0.628357   \n",
       "4        -0.087867    -0.414223     0.463450     0.284946      -0.485386   \n",
       "...            ...          ...          ...          ...            ...   \n",
       "1840      1.315721     1.181614     1.426670     1.586246      -0.322454   \n",
       "1841     -0.087867    -0.612710    -0.816257    -1.016354       0.298028   \n",
       "1842     -0.087867    -0.388419     0.041467     0.284946      -0.050156   \n",
       "1843     -0.087867    -1.027548    -0.894232    -1.016354      -1.293352   \n",
       "1844      0.613927     0.040313     0.302913     0.284946       1.032339   \n",
       "\n",
       "      1st Flr SF  Year Built  Year Remod/Add  Full Bath  Garage Yr Blt  ...  \\\n",
       "0      -1.094699    0.903219        0.702821   0.758359       0.813922  ...   \n",
       "1      -0.516266   -1.701364       -1.621532  -1.051695      -2.354445  ...   \n",
       "2      -0.396072   -0.646343        0.892564  -1.051695      -1.071056  ...   \n",
       "3       0.445285    0.837280        0.655385   0.758359       0.733710  ...   \n",
       "4      -0.751646   -1.470578       -1.621532  -1.051695       0.051909  ...   \n",
       "...          ...         ...             ...        ...            ...  ...   \n",
       "1840   -0.521274    1.166974        1.082307   0.758359       1.134769  ...   \n",
       "1841    0.074687   -0.514466       -1.336917  -1.051695      -0.910632  ...   \n",
       "1842    0.357643    0.078984        0.702821  -1.051695      -0.188726  ...   \n",
       "1843   -1.710692   -0.052894       -0.672817  -1.051695       0.332651  ...   \n",
       "1844    0.898515    0.936188        0.750256   0.758359       0.854027  ...   \n",
       "\n",
       "      Not Heating QC_TA^2  Not Heating QC_TA Not Neighborhood_OldTown  \\\n",
       "0                0.408397                                    0.190109   \n",
       "1                0.408397                                   -2.148228   \n",
       "2                0.408397                                    0.190109   \n",
       "3                0.408397                                    0.190109   \n",
       "4                2.448598                                    5.260148   \n",
       "...                   ...                                         ...   \n",
       "1840             0.408397                                    0.190109   \n",
       "1841             0.408397                                    0.190109   \n",
       "1842             0.408397                                    0.190109   \n",
       "1843             2.448598                                   -0.465500   \n",
       "1844             0.408397                                    0.190109   \n",
       "\n",
       "      Not Heating QC_TA Not Heating QC_Gd  \\\n",
       "0                               -1.470799   \n",
       "1                               -1.470799   \n",
       "2                                0.277670   \n",
       "3                                0.277670   \n",
       "4                               -0.679903   \n",
       "...                                   ...   \n",
       "1840                             0.277670   \n",
       "1841                            -1.470799   \n",
       "1842                             0.277670   \n",
       "1843                            -0.679903   \n",
       "1844                             0.277670   \n",
       "\n",
       "      Not Heating QC_TA Not Kitchen Qual_Fa  Not Neighborhood_OldTown^2  \\\n",
       "0                                  0.101044                    0.088496   \n",
       "1                                  0.101044                   11.300000   \n",
       "2                                  0.101044                    0.088496   \n",
       "3                                  0.101044                    0.088496   \n",
       "4                                 -0.247417                   11.300000   \n",
       "...                                     ...                         ...   \n",
       "1840                               0.101044                    0.088496   \n",
       "1841                               0.101044                    0.088496   \n",
       "1842                               0.101044                    0.088496   \n",
       "1843                              -0.247417                    0.088496   \n",
       "1844                               0.101044                    0.088496   \n",
       "\n",
       "      Not Neighborhood_OldTown Not Heating QC_Gd  \\\n",
       "0                                      -0.684657   \n",
       "1                                       7.736620   \n",
       "2                                       0.129255   \n",
       "3                                       0.129255   \n",
       "4                                      -1.460586   \n",
       "...                                          ...   \n",
       "1840                                    0.129255   \n",
       "1841                                   -0.684657   \n",
       "1842                                    0.129255   \n",
       "1843                                    0.129255   \n",
       "1844                                    0.129255   \n",
       "\n",
       "      Not Neighborhood_OldTown Not Kitchen Qual_Fa  Not Heating QC_Gd^2  \\\n",
       "0                                         0.047036             5.296928   \n",
       "1                                        -0.531507             5.296928   \n",
       "2                                         0.047036             0.188789   \n",
       "3                                         0.047036             0.188789   \n",
       "4                                        -0.531507             0.188789   \n",
       "...                                            ...                  ...   \n",
       "1840                                      0.047036             0.188789   \n",
       "1841                                      0.047036             5.296928   \n",
       "1842                                      0.047036             0.188789   \n",
       "1843                                      0.047036             0.188789   \n",
       "1844                                      0.047036             0.188789   \n",
       "\n",
       "      Not Heating QC_Gd Not Kitchen Qual_Fa  Not Kitchen Qual_Fa^2  \n",
       "0                                   -0.3639                  0.025  \n",
       "1                                   -0.3639                  0.025  \n",
       "2                                    0.0687                  0.025  \n",
       "3                                    0.0687                  0.025  \n",
       "4                                    0.0687                  0.025  \n",
       "...                                     ...                    ...  \n",
       "1840                                 0.0687                  0.025  \n",
       "1841                                -0.3639                  0.025  \n",
       "1842                                 0.0687                  0.025  \n",
       "1843                                 0.0687                  0.025  \n",
       "1844                                 0.0687                  0.025  \n",
       "\n",
       "[1845 rows x 902 columns]"
      ]
     },
     "execution_count": 123,
     "metadata": {},
     "output_type": "execute_result"
    }
   ],
   "source": [
    "pd.DataFrame(X_train, columns=poly.get_feature_names_out(features))"
   ]
  },
  {
   "cell_type": "code",
   "execution_count": 124,
   "id": "fe3d88d6-4717-47a8-8bc3-4d734813418e",
   "metadata": {},
   "outputs": [
    {
     "data": {
      "text/html": [
       "<style>#sk-container-id-16 {color: black;}#sk-container-id-16 pre{padding: 0;}#sk-container-id-16 div.sk-toggleable {background-color: white;}#sk-container-id-16 label.sk-toggleable__label {cursor: pointer;display: block;width: 100%;margin-bottom: 0;padding: 0.3em;box-sizing: border-box;text-align: center;}#sk-container-id-16 label.sk-toggleable__label-arrow:before {content: \"▸\";float: left;margin-right: 0.25em;color: #696969;}#sk-container-id-16 label.sk-toggleable__label-arrow:hover:before {color: black;}#sk-container-id-16 div.sk-estimator:hover label.sk-toggleable__label-arrow:before {color: black;}#sk-container-id-16 div.sk-toggleable__content {max-height: 0;max-width: 0;overflow: hidden;text-align: left;background-color: #f0f8ff;}#sk-container-id-16 div.sk-toggleable__content pre {margin: 0.2em;color: black;border-radius: 0.25em;background-color: #f0f8ff;}#sk-container-id-16 input.sk-toggleable__control:checked~div.sk-toggleable__content {max-height: 200px;max-width: 100%;overflow: auto;}#sk-container-id-16 input.sk-toggleable__control:checked~label.sk-toggleable__label-arrow:before {content: \"▾\";}#sk-container-id-16 div.sk-estimator input.sk-toggleable__control:checked~label.sk-toggleable__label {background-color: #d4ebff;}#sk-container-id-16 div.sk-label input.sk-toggleable__control:checked~label.sk-toggleable__label {background-color: #d4ebff;}#sk-container-id-16 input.sk-hidden--visually {border: 0;clip: rect(1px 1px 1px 1px);clip: rect(1px, 1px, 1px, 1px);height: 1px;margin: -1px;overflow: hidden;padding: 0;position: absolute;width: 1px;}#sk-container-id-16 div.sk-estimator {font-family: monospace;background-color: #f0f8ff;border: 1px dotted black;border-radius: 0.25em;box-sizing: border-box;margin-bottom: 0.5em;}#sk-container-id-16 div.sk-estimator:hover {background-color: #d4ebff;}#sk-container-id-16 div.sk-parallel-item::after {content: \"\";width: 100%;border-bottom: 1px solid gray;flex-grow: 1;}#sk-container-id-16 div.sk-label:hover label.sk-toggleable__label {background-color: #d4ebff;}#sk-container-id-16 div.sk-serial::before {content: \"\";position: absolute;border-left: 1px solid gray;box-sizing: border-box;top: 0;bottom: 0;left: 50%;z-index: 0;}#sk-container-id-16 div.sk-serial {display: flex;flex-direction: column;align-items: center;background-color: white;padding-right: 0.2em;padding-left: 0.2em;position: relative;}#sk-container-id-16 div.sk-item {position: relative;z-index: 1;}#sk-container-id-16 div.sk-parallel {display: flex;align-items: stretch;justify-content: center;background-color: white;position: relative;}#sk-container-id-16 div.sk-item::before, #sk-container-id-16 div.sk-parallel-item::before {content: \"\";position: absolute;border-left: 1px solid gray;box-sizing: border-box;top: 0;bottom: 0;left: 50%;z-index: -1;}#sk-container-id-16 div.sk-parallel-item {display: flex;flex-direction: column;z-index: 1;position: relative;background-color: white;}#sk-container-id-16 div.sk-parallel-item:first-child::after {align-self: flex-end;width: 50%;}#sk-container-id-16 div.sk-parallel-item:last-child::after {align-self: flex-start;width: 50%;}#sk-container-id-16 div.sk-parallel-item:only-child::after {width: 0;}#sk-container-id-16 div.sk-dashed-wrapped {border: 1px dashed gray;margin: 0 0.4em 0.5em 0.4em;box-sizing: border-box;padding-bottom: 0.4em;background-color: white;}#sk-container-id-16 div.sk-label label {font-family: monospace;font-weight: bold;display: inline-block;line-height: 1.2em;}#sk-container-id-16 div.sk-label-container {text-align: center;}#sk-container-id-16 div.sk-container {/* jupyter's `normalize.less` sets `[hidden] { display: none; }` but bootstrap.min.css set `[hidden] { display: none !important; }` so we also need the `!important` here to be able to override the default hidden behavior on the sphinx rendered scikit-learn.org. See: https://github.com/scikit-learn/scikit-learn/issues/21755 */display: inline-block !important;position: relative;}#sk-container-id-16 div.sk-text-repr-fallback {display: none;}</style><div id=\"sk-container-id-16\" class=\"sk-top-container\"><div class=\"sk-text-repr-fallback\"><pre>LinearRegression()</pre><b>In a Jupyter environment, please rerun this cell to show the HTML representation or trust the notebook. <br />On GitHub, the HTML representation is unable to render, please try loading this page with nbviewer.org.</b></div><div class=\"sk-container\" hidden><div class=\"sk-item\"><div class=\"sk-estimator sk-toggleable\"><input class=\"sk-toggleable__control sk-hidden--visually\" id=\"sk-estimator-id-16\" type=\"checkbox\" checked><label for=\"sk-estimator-id-16\" class=\"sk-toggleable__label sk-toggleable__label-arrow\">LinearRegression</label><div class=\"sk-toggleable__content\"><pre>LinearRegression()</pre></div></div></div></div></div>"
      ],
      "text/plain": [
       "LinearRegression()"
      ]
     },
     "execution_count": 124,
     "metadata": {},
     "output_type": "execute_result"
    }
   ],
   "source": [
    "linmod.fit(X_train,y_train)"
   ]
  },
  {
   "cell_type": "code",
   "execution_count": 125,
   "id": "ef5f0d9d-194d-4a73-b812-32b8762c71f2",
   "metadata": {},
   "outputs": [],
   "source": [
    "lasso_model = LassoCV(max_iter=10000)"
   ]
  },
  {
   "cell_type": "code",
   "execution_count": 126,
   "id": "f7c7506b-375e-402f-9ca9-f0258f4b94fb",
   "metadata": {},
   "outputs": [
    {
     "data": {
      "text/html": [
       "<style>#sk-container-id-17 {color: black;}#sk-container-id-17 pre{padding: 0;}#sk-container-id-17 div.sk-toggleable {background-color: white;}#sk-container-id-17 label.sk-toggleable__label {cursor: pointer;display: block;width: 100%;margin-bottom: 0;padding: 0.3em;box-sizing: border-box;text-align: center;}#sk-container-id-17 label.sk-toggleable__label-arrow:before {content: \"▸\";float: left;margin-right: 0.25em;color: #696969;}#sk-container-id-17 label.sk-toggleable__label-arrow:hover:before {color: black;}#sk-container-id-17 div.sk-estimator:hover label.sk-toggleable__label-arrow:before {color: black;}#sk-container-id-17 div.sk-toggleable__content {max-height: 0;max-width: 0;overflow: hidden;text-align: left;background-color: #f0f8ff;}#sk-container-id-17 div.sk-toggleable__content pre {margin: 0.2em;color: black;border-radius: 0.25em;background-color: #f0f8ff;}#sk-container-id-17 input.sk-toggleable__control:checked~div.sk-toggleable__content {max-height: 200px;max-width: 100%;overflow: auto;}#sk-container-id-17 input.sk-toggleable__control:checked~label.sk-toggleable__label-arrow:before {content: \"▾\";}#sk-container-id-17 div.sk-estimator input.sk-toggleable__control:checked~label.sk-toggleable__label {background-color: #d4ebff;}#sk-container-id-17 div.sk-label input.sk-toggleable__control:checked~label.sk-toggleable__label {background-color: #d4ebff;}#sk-container-id-17 input.sk-hidden--visually {border: 0;clip: rect(1px 1px 1px 1px);clip: rect(1px, 1px, 1px, 1px);height: 1px;margin: -1px;overflow: hidden;padding: 0;position: absolute;width: 1px;}#sk-container-id-17 div.sk-estimator {font-family: monospace;background-color: #f0f8ff;border: 1px dotted black;border-radius: 0.25em;box-sizing: border-box;margin-bottom: 0.5em;}#sk-container-id-17 div.sk-estimator:hover {background-color: #d4ebff;}#sk-container-id-17 div.sk-parallel-item::after {content: \"\";width: 100%;border-bottom: 1px solid gray;flex-grow: 1;}#sk-container-id-17 div.sk-label:hover label.sk-toggleable__label {background-color: #d4ebff;}#sk-container-id-17 div.sk-serial::before {content: \"\";position: absolute;border-left: 1px solid gray;box-sizing: border-box;top: 0;bottom: 0;left: 50%;z-index: 0;}#sk-container-id-17 div.sk-serial {display: flex;flex-direction: column;align-items: center;background-color: white;padding-right: 0.2em;padding-left: 0.2em;position: relative;}#sk-container-id-17 div.sk-item {position: relative;z-index: 1;}#sk-container-id-17 div.sk-parallel {display: flex;align-items: stretch;justify-content: center;background-color: white;position: relative;}#sk-container-id-17 div.sk-item::before, #sk-container-id-17 div.sk-parallel-item::before {content: \"\";position: absolute;border-left: 1px solid gray;box-sizing: border-box;top: 0;bottom: 0;left: 50%;z-index: -1;}#sk-container-id-17 div.sk-parallel-item {display: flex;flex-direction: column;z-index: 1;position: relative;background-color: white;}#sk-container-id-17 div.sk-parallel-item:first-child::after {align-self: flex-end;width: 50%;}#sk-container-id-17 div.sk-parallel-item:last-child::after {align-self: flex-start;width: 50%;}#sk-container-id-17 div.sk-parallel-item:only-child::after {width: 0;}#sk-container-id-17 div.sk-dashed-wrapped {border: 1px dashed gray;margin: 0 0.4em 0.5em 0.4em;box-sizing: border-box;padding-bottom: 0.4em;background-color: white;}#sk-container-id-17 div.sk-label label {font-family: monospace;font-weight: bold;display: inline-block;line-height: 1.2em;}#sk-container-id-17 div.sk-label-container {text-align: center;}#sk-container-id-17 div.sk-container {/* jupyter's `normalize.less` sets `[hidden] { display: none; }` but bootstrap.min.css set `[hidden] { display: none !important; }` so we also need the `!important` here to be able to override the default hidden behavior on the sphinx rendered scikit-learn.org. See: https://github.com/scikit-learn/scikit-learn/issues/21755 */display: inline-block !important;position: relative;}#sk-container-id-17 div.sk-text-repr-fallback {display: none;}</style><div id=\"sk-container-id-17\" class=\"sk-top-container\"><div class=\"sk-text-repr-fallback\"><pre>LassoCV(max_iter=10000)</pre><b>In a Jupyter environment, please rerun this cell to show the HTML representation or trust the notebook. <br />On GitHub, the HTML representation is unable to render, please try loading this page with nbviewer.org.</b></div><div class=\"sk-container\" hidden><div class=\"sk-item\"><div class=\"sk-estimator sk-toggleable\"><input class=\"sk-toggleable__control sk-hidden--visually\" id=\"sk-estimator-id-17\" type=\"checkbox\" checked><label for=\"sk-estimator-id-17\" class=\"sk-toggleable__label sk-toggleable__label-arrow\">LassoCV</label><div class=\"sk-toggleable__content\"><pre>LassoCV(max_iter=10000)</pre></div></div></div></div></div>"
      ],
      "text/plain": [
       "LassoCV(max_iter=10000)"
      ]
     },
     "execution_count": 126,
     "metadata": {},
     "output_type": "execute_result"
    }
   ],
   "source": [
    "lasso_model.fit(X_train,y_train)"
   ]
  },
  {
   "cell_type": "code",
   "execution_count": 127,
   "id": "2b268cc4-06fe-4538-b53a-d8b63918eb6f",
   "metadata": {},
   "outputs": [
    {
     "data": {
      "text/html": [
       "<style>#sk-container-id-18 {color: black;}#sk-container-id-18 pre{padding: 0;}#sk-container-id-18 div.sk-toggleable {background-color: white;}#sk-container-id-18 label.sk-toggleable__label {cursor: pointer;display: block;width: 100%;margin-bottom: 0;padding: 0.3em;box-sizing: border-box;text-align: center;}#sk-container-id-18 label.sk-toggleable__label-arrow:before {content: \"▸\";float: left;margin-right: 0.25em;color: #696969;}#sk-container-id-18 label.sk-toggleable__label-arrow:hover:before {color: black;}#sk-container-id-18 div.sk-estimator:hover label.sk-toggleable__label-arrow:before {color: black;}#sk-container-id-18 div.sk-toggleable__content {max-height: 0;max-width: 0;overflow: hidden;text-align: left;background-color: #f0f8ff;}#sk-container-id-18 div.sk-toggleable__content pre {margin: 0.2em;color: black;border-radius: 0.25em;background-color: #f0f8ff;}#sk-container-id-18 input.sk-toggleable__control:checked~div.sk-toggleable__content {max-height: 200px;max-width: 100%;overflow: auto;}#sk-container-id-18 input.sk-toggleable__control:checked~label.sk-toggleable__label-arrow:before {content: \"▾\";}#sk-container-id-18 div.sk-estimator input.sk-toggleable__control:checked~label.sk-toggleable__label {background-color: #d4ebff;}#sk-container-id-18 div.sk-label input.sk-toggleable__control:checked~label.sk-toggleable__label {background-color: #d4ebff;}#sk-container-id-18 input.sk-hidden--visually {border: 0;clip: rect(1px 1px 1px 1px);clip: rect(1px, 1px, 1px, 1px);height: 1px;margin: -1px;overflow: hidden;padding: 0;position: absolute;width: 1px;}#sk-container-id-18 div.sk-estimator {font-family: monospace;background-color: #f0f8ff;border: 1px dotted black;border-radius: 0.25em;box-sizing: border-box;margin-bottom: 0.5em;}#sk-container-id-18 div.sk-estimator:hover {background-color: #d4ebff;}#sk-container-id-18 div.sk-parallel-item::after {content: \"\";width: 100%;border-bottom: 1px solid gray;flex-grow: 1;}#sk-container-id-18 div.sk-label:hover label.sk-toggleable__label {background-color: #d4ebff;}#sk-container-id-18 div.sk-serial::before {content: \"\";position: absolute;border-left: 1px solid gray;box-sizing: border-box;top: 0;bottom: 0;left: 50%;z-index: 0;}#sk-container-id-18 div.sk-serial {display: flex;flex-direction: column;align-items: center;background-color: white;padding-right: 0.2em;padding-left: 0.2em;position: relative;}#sk-container-id-18 div.sk-item {position: relative;z-index: 1;}#sk-container-id-18 div.sk-parallel {display: flex;align-items: stretch;justify-content: center;background-color: white;position: relative;}#sk-container-id-18 div.sk-item::before, #sk-container-id-18 div.sk-parallel-item::before {content: \"\";position: absolute;border-left: 1px solid gray;box-sizing: border-box;top: 0;bottom: 0;left: 50%;z-index: -1;}#sk-container-id-18 div.sk-parallel-item {display: flex;flex-direction: column;z-index: 1;position: relative;background-color: white;}#sk-container-id-18 div.sk-parallel-item:first-child::after {align-self: flex-end;width: 50%;}#sk-container-id-18 div.sk-parallel-item:last-child::after {align-self: flex-start;width: 50%;}#sk-container-id-18 div.sk-parallel-item:only-child::after {width: 0;}#sk-container-id-18 div.sk-dashed-wrapped {border: 1px dashed gray;margin: 0 0.4em 0.5em 0.4em;box-sizing: border-box;padding-bottom: 0.4em;background-color: white;}#sk-container-id-18 div.sk-label label {font-family: monospace;font-weight: bold;display: inline-block;line-height: 1.2em;}#sk-container-id-18 div.sk-label-container {text-align: center;}#sk-container-id-18 div.sk-container {/* jupyter's `normalize.less` sets `[hidden] { display: none; }` but bootstrap.min.css set `[hidden] { display: none !important; }` so we also need the `!important` here to be able to override the default hidden behavior on the sphinx rendered scikit-learn.org. See: https://github.com/scikit-learn/scikit-learn/issues/21755 */display: inline-block !important;position: relative;}#sk-container-id-18 div.sk-text-repr-fallback {display: none;}</style><div id=\"sk-container-id-18\" class=\"sk-top-container\"><div class=\"sk-text-repr-fallback\"><pre>RidgeCV(alphas=array([1.00000000e+00, 1.12332403e+00, 1.26185688e+00, 1.41747416e+00,\n",
       "       1.59228279e+00, 1.78864953e+00, 2.00923300e+00, 2.25701972e+00,\n",
       "       2.53536449e+00, 2.84803587e+00, 3.19926714e+00, 3.59381366e+00,\n",
       "       4.03701726e+00, 4.53487851e+00, 5.09413801e+00, 5.72236766e+00,\n",
       "       6.42807312e+00, 7.22080902e+00, 8.11130831e+00, 9.11162756e+00,\n",
       "       1.02353102e+01, 1.14975700e+0...\n",
       "       6.89261210e+03, 7.74263683e+03, 8.69749003e+03, 9.77009957e+03,\n",
       "       1.09749877e+04, 1.23284674e+04, 1.38488637e+04, 1.55567614e+04,\n",
       "       1.74752840e+04, 1.96304065e+04, 2.20513074e+04, 2.47707636e+04,\n",
       "       2.78255940e+04, 3.12571585e+04, 3.51119173e+04, 3.94420606e+04,\n",
       "       4.43062146e+04, 4.97702356e+04, 5.59081018e+04, 6.28029144e+04,\n",
       "       7.05480231e+04, 7.92482898e+04, 8.90215085e+04, 1.00000000e+05]),\n",
       "        cv=5, scoring=&#x27;r2&#x27;)</pre><b>In a Jupyter environment, please rerun this cell to show the HTML representation or trust the notebook. <br />On GitHub, the HTML representation is unable to render, please try loading this page with nbviewer.org.</b></div><div class=\"sk-container\" hidden><div class=\"sk-item\"><div class=\"sk-estimator sk-toggleable\"><input class=\"sk-toggleable__control sk-hidden--visually\" id=\"sk-estimator-id-18\" type=\"checkbox\" checked><label for=\"sk-estimator-id-18\" class=\"sk-toggleable__label sk-toggleable__label-arrow\">RidgeCV</label><div class=\"sk-toggleable__content\"><pre>RidgeCV(alphas=array([1.00000000e+00, 1.12332403e+00, 1.26185688e+00, 1.41747416e+00,\n",
       "       1.59228279e+00, 1.78864953e+00, 2.00923300e+00, 2.25701972e+00,\n",
       "       2.53536449e+00, 2.84803587e+00, 3.19926714e+00, 3.59381366e+00,\n",
       "       4.03701726e+00, 4.53487851e+00, 5.09413801e+00, 5.72236766e+00,\n",
       "       6.42807312e+00, 7.22080902e+00, 8.11130831e+00, 9.11162756e+00,\n",
       "       1.02353102e+01, 1.14975700e+0...\n",
       "       6.89261210e+03, 7.74263683e+03, 8.69749003e+03, 9.77009957e+03,\n",
       "       1.09749877e+04, 1.23284674e+04, 1.38488637e+04, 1.55567614e+04,\n",
       "       1.74752840e+04, 1.96304065e+04, 2.20513074e+04, 2.47707636e+04,\n",
       "       2.78255940e+04, 3.12571585e+04, 3.51119173e+04, 3.94420606e+04,\n",
       "       4.43062146e+04, 4.97702356e+04, 5.59081018e+04, 6.28029144e+04,\n",
       "       7.05480231e+04, 7.92482898e+04, 8.90215085e+04, 1.00000000e+05]),\n",
       "        cv=5, scoring=&#x27;r2&#x27;)</pre></div></div></div></div></div>"
      ],
      "text/plain": [
       "RidgeCV(alphas=array([1.00000000e+00, 1.12332403e+00, 1.26185688e+00, 1.41747416e+00,\n",
       "       1.59228279e+00, 1.78864953e+00, 2.00923300e+00, 2.25701972e+00,\n",
       "       2.53536449e+00, 2.84803587e+00, 3.19926714e+00, 3.59381366e+00,\n",
       "       4.03701726e+00, 4.53487851e+00, 5.09413801e+00, 5.72236766e+00,\n",
       "       6.42807312e+00, 7.22080902e+00, 8.11130831e+00, 9.11162756e+00,\n",
       "       1.02353102e+01, 1.14975700e+0...\n",
       "       6.89261210e+03, 7.74263683e+03, 8.69749003e+03, 9.77009957e+03,\n",
       "       1.09749877e+04, 1.23284674e+04, 1.38488637e+04, 1.55567614e+04,\n",
       "       1.74752840e+04, 1.96304065e+04, 2.20513074e+04, 2.47707636e+04,\n",
       "       2.78255940e+04, 3.12571585e+04, 3.51119173e+04, 3.94420606e+04,\n",
       "       4.43062146e+04, 4.97702356e+04, 5.59081018e+04, 6.28029144e+04,\n",
       "       7.05480231e+04, 7.92482898e+04, 8.90215085e+04, 1.00000000e+05]),\n",
       "        cv=5, scoring='r2')"
      ]
     },
     "execution_count": 127,
     "metadata": {},
     "output_type": "execute_result"
    }
   ],
   "source": [
    "r_alphas = np.logspace(0,5,100)\n",
    "\n",
    "# Cross-validate over our list of ridge alphas.\n",
    "ridge_model = RidgeCV(alphas=r_alphas, cv = 5, scoring='r2')\n",
    "# Fit model using best ridge alpha!\n",
    "ridge_model.fit(X_train, y_train)"
   ]
  },
  {
   "cell_type": "code",
   "execution_count": 128,
   "id": "d4e45b56-56d2-41aa-be75-6f8eca88838c",
   "metadata": {},
   "outputs": [],
   "source": [
    "# # Set up a list of Lasso alphas to check.\n",
    "# l_alphas = np.logspace(-3, 0 , 100)\n",
    "# # Cross-validate over our list of Lasso alphas.\n",
    "# lasso_model = LassoCV(alphas=l_alphas, cv = 5, max_iter=5000)\n",
    "# # Fit model using best ridge alpha!\n",
    "# lasso_model.fit(X_train, y_train)"
   ]
  },
  {
   "cell_type": "code",
   "execution_count": 129,
   "id": "9e63d7a5-d88d-49d1-8822-06b6aa197b57",
   "metadata": {},
   "outputs": [],
   "source": [
    "# r_alphas = np.logspace(0,5,100)\n",
    "\n",
    "# # Cross-validate over our list of ridge alphas.\n",
    "# ridge_model = RidgeCV(alphas=r_alphas, cv = 5, scoring='r2')\n",
    "# # Fit model using best ridge alpha!\n",
    "# ridge_model.fit(X_train, y_train)"
   ]
  },
  {
   "cell_type": "code",
   "execution_count": 130,
   "id": "8226a94f-ea12-49bf-beb1-d07e97cce00c",
   "metadata": {},
   "outputs": [
    {
     "name": "stdout",
     "output_type": "stream",
     "text": [
      "The train score for lin model is 0.9607074941063396\n",
      "The test score for lin model is -3.217281175181844e+18\n"
     ]
    }
   ],
   "source": [
    "#predict\n",
    "prediction_lin = linmod.predict(X_test)\n",
    "\n",
    "#actual\n",
    "actual = y_test\n",
    "\n",
    "train_score_lin = linmod.score(X_train, y_train)\n",
    "test_score_lin = linmod.score(X_test, y_test)\n",
    "\n",
    "print(\"The train score for lin model is {}\".format(train_score_lin))\n",
    "print(\"The test score for lin model is {}\".format(test_score_lin))"
   ]
  },
  {
   "cell_type": "code",
   "execution_count": 131,
   "id": "394e6c0a-85be-4eb6-9143-cac87b3e63e3",
   "metadata": {},
   "outputs": [
    {
     "name": "stdout",
     "output_type": "stream",
     "text": [
      "The train score for lasso model is 0.9282990792350672\n",
      "The test score for lasso model is 0.927615791511294\n",
      "0.07% difference\n"
     ]
    }
   ],
   "source": [
    "# And same for the other models \n",
    "#predict\n",
    "prediction_lasso = lasso_model.predict(X_test)\n",
    "\n",
    "#actual\n",
    "actual = y_test\n",
    "\n",
    "train_score_lasso = lasso_model.score(X_train, y_train)\n",
    "test_score_lasso = lasso_model.score(X_test, y_test)\n",
    "\n",
    "print(\"The train score for lasso model is {}\".format(train_score_lasso))\n",
    "print(\"The test score for lasso model is {}\".format(test_score_lasso))\n",
    "print(f\"{round(((train_score_lasso - test_score_lasso)*100),2)}% difference\")"
   ]
  },
  {
   "cell_type": "code",
   "execution_count": 132,
   "id": "b7e6166d-2d04-4383-9c9b-01f997b4f94f",
   "metadata": {},
   "outputs": [
    {
     "name": "stdout",
     "output_type": "stream",
     "text": [
      "The train score for ridge model is 0.9355777122148966\n",
      "The test score for ridge model is 0.9277577464965719\n",
      "0.78% difference\n"
     ]
    }
   ],
   "source": [
    "#predict\n",
    "prediction_ridge = ridge_model.predict(X_test)\n",
    "\n",
    "#actual\n",
    "actual = y_test\n",
    "\n",
    "train_score_ridge = ridge_model.score(X_train, y_train)\n",
    "test_score_ridge = ridge_model.score(X_test, y_test)\n",
    "\n",
    "print(\"The train score for ridge model is {}\".format(train_score_ridge))\n",
    "print(\"The test score for ridge model is {}\".format(test_score_ridge))\n",
    "print(f\"{round(((train_score_ridge - test_score_ridge)*100),2)}% difference\")"
   ]
  },
  {
   "cell_type": "markdown",
   "id": "02be67fe-1391-45d6-9e3d-0e05d24cb27b",
   "metadata": {},
   "source": [
    "# Error Metrics Section"
   ]
  },
  {
   "cell_type": "code",
   "execution_count": 133,
   "id": "3f53e475-005b-4507-9aac-16bc6f278121",
   "metadata": {},
   "outputs": [
    {
     "name": "stdout",
     "output_type": "stream",
     "text": [
      "MAE Ridge | 15345.579003147821\n"
     ]
    }
   ],
   "source": [
    "print(f\"MAE Ridge | {mean_absolute_error(y_test, prediction_ridge)}\")"
   ]
  },
  {
   "cell_type": "code",
   "execution_count": 134,
   "id": "0dcd36a9-a4a0-444e-bda0-0ed300e8dfb6",
   "metadata": {},
   "outputs": [
    {
     "name": "stdout",
     "output_type": "stream",
     "text": [
      "MAE Lasso | 14448.11988434666\n"
     ]
    }
   ],
   "source": [
    "print(f\"MAE Lasso | {mean_absolute_error(y_test, prediction_lasso)}\")"
   ]
  },
  {
   "cell_type": "code",
   "execution_count": 135,
   "id": "5b79a8e5-a51d-4c29-9c96-1c0ccabf24c1",
   "metadata": {},
   "outputs": [
    {
     "name": "stdout",
     "output_type": "stream",
     "text": [
      "MAE Linear | 9588727179956.752\n"
     ]
    }
   ],
   "source": [
    "print(f\"MAE Linear | {mean_absolute_error(y_test, prediction_lin)}\")"
   ]
  },
  {
   "cell_type": "code",
   "execution_count": 136,
   "id": "116889ef-e051-4e9b-a00a-25b8f2516f01",
   "metadata": {},
   "outputs": [
    {
     "data": {
      "text/plain": [
       "87610998542.7042"
      ]
     },
     "execution_count": 136,
     "metadata": {},
     "output_type": "execute_result"
    }
   ],
   "source": [
    "# RSS Ridge\n",
    "sum((y_test - prediction_ridge)**2)"
   ]
  },
  {
   "cell_type": "code",
   "execution_count": 137,
   "id": "8ab7e3fe-5e63-4cb2-b80e-e6ad2af02345",
   "metadata": {},
   "outputs": [
    {
     "data": {
      "text/plain": [
       "87783152890.12819"
      ]
     },
     "execution_count": 137,
     "metadata": {},
     "output_type": "execute_result"
    }
   ],
   "source": [
    "# RSS Lasso\n",
    "sum((y_test - prediction_lasso)**2)"
   ]
  },
  {
   "cell_type": "code",
   "execution_count": 138,
   "id": "09e214a7-fbaa-47b0-82bc-a15fe7e144cb",
   "metadata": {},
   "outputs": [
    {
     "data": {
      "text/plain": [
       "3.901722367187106e+30"
      ]
     },
     "execution_count": 138,
     "metadata": {},
     "output_type": "execute_result"
    }
   ],
   "source": [
    "# RSS Linear\n",
    "sum((y_test - prediction_lin)**2)"
   ]
  },
  {
   "cell_type": "code",
   "execution_count": 139,
   "id": "603b86b6-8df9-477b-8ff1-33348b192491",
   "metadata": {},
   "outputs": [
    {
     "data": {
      "text/plain": [
       "425296109.4306029"
      ]
     },
     "execution_count": 139,
     "metadata": {},
     "output_type": "execute_result"
    }
   ],
   "source": [
    "# MSE Ridge\n",
    "mean_squared_error(y_test, prediction_ridge)"
   ]
  },
  {
   "cell_type": "code",
   "execution_count": 140,
   "id": "8366d12b-1e1e-4d4a-93b6-777e281f60a5",
   "metadata": {},
   "outputs": [
    {
     "data": {
      "text/plain": [
       "426131810.14625293"
      ]
     },
     "execution_count": 140,
     "metadata": {},
     "output_type": "execute_result"
    }
   ],
   "source": [
    "# MSE Lasso\n",
    "mean_squared_error(y_test, prediction_lasso)"
   ]
  },
  {
   "cell_type": "code",
   "execution_count": 141,
   "id": "a5410052-949b-4fa0-ac4c-bf1a2836cdac",
   "metadata": {},
   "outputs": [
    {
     "data": {
      "text/plain": [
       "1.8940399840714107e+28"
      ]
     },
     "execution_count": 141,
     "metadata": {},
     "output_type": "execute_result"
    }
   ],
   "source": [
    "# MSE Linear\n",
    "mean_squared_error(y_test, prediction_lin)"
   ]
  },
  {
   "cell_type": "code",
   "execution_count": 142,
   "id": "7daf9adf-011d-474f-a6a2-d9de3b690ac6",
   "metadata": {},
   "outputs": [
    {
     "name": "stdout",
     "output_type": "stream",
     "text": [
      "RMSE Ridge | 20622.708586182438\n"
     ]
    }
   ],
   "source": [
    "# Root Mean Squared Error Ridge\n",
    "print(f\"RMSE Ridge | {np.sqrt(mean_squared_error(y_test, prediction_ridge))}\")"
   ]
  },
  {
   "cell_type": "code",
   "execution_count": 143,
   "id": "5b00a8f2-9900-462f-a1fa-1a6ed14bdf06",
   "metadata": {},
   "outputs": [
    {
     "name": "stdout",
     "output_type": "stream",
     "text": [
      "RMSE Lasso | 20642.96030481706\n"
     ]
    }
   ],
   "source": [
    "# Root Mean Squared Error Lasso\n",
    "print(f\"RMSE Lasso | {np.sqrt(mean_squared_error(y_test, prediction_lasso))}\")"
   ]
  },
  {
   "cell_type": "code",
   "execution_count": 144,
   "id": "1d7dc29e-dde1-43e4-9de7-1a795792211c",
   "metadata": {},
   "outputs": [
    {
     "name": "stdout",
     "output_type": "stream",
     "text": [
      "RMSE Linear | 137624125213256.52\n"
     ]
    }
   ],
   "source": [
    "# Root Mean Squared Error Linear\n",
    "print(f\"RMSE Linear | {np.sqrt(mean_squared_error(y_test, prediction_lin))}\")"
   ]
  },
  {
   "cell_type": "markdown",
   "id": "7f9ab47e-1451-4049-aa40-0fe870945730",
   "metadata": {},
   "source": [
    "# Export Section"
   ]
  },
  {
   "cell_type": "code",
   "execution_count": 145,
   "id": "e309440b-d634-40d1-9135-b412cab4e168",
   "metadata": {},
   "outputs": [
    {
     "data": {
      "text/plain": [
       "(2051, 143)"
      ]
     },
     "execution_count": 145,
     "metadata": {},
     "output_type": "execute_result"
    }
   ],
   "source": [
    "df.shape"
   ]
  },
  {
   "cell_type": "code",
   "execution_count": 146,
   "id": "a823cf90-23ee-4f26-998f-8cd53cdb0141",
   "metadata": {},
   "outputs": [
    {
     "data": {
      "text/plain": [
       "(878, 143)"
      ]
     },
     "execution_count": 146,
     "metadata": {},
     "output_type": "execute_result"
    }
   ],
   "source": [
    "kaggle_data.shape"
   ]
  },
  {
   "cell_type": "code",
   "execution_count": 147,
   "id": "36958a79-11d5-4544-8da8-f293c614d838",
   "metadata": {},
   "outputs": [
    {
     "data": {
      "text/plain": [
       "(1845, 902)"
      ]
     },
     "execution_count": 147,
     "metadata": {},
     "output_type": "execute_result"
    }
   ],
   "source": [
    "X_train.shape"
   ]
  },
  {
   "cell_type": "code",
   "execution_count": 148,
   "id": "46924acc-645a-4420-8364-8f4d952675dc",
   "metadata": {},
   "outputs": [
    {
     "data": {
      "text/plain": [
       "(206, 902)"
      ]
     },
     "execution_count": 148,
     "metadata": {},
     "output_type": "execute_result"
    }
   ],
   "source": [
    "X_test.shape"
   ]
  },
  {
   "cell_type": "code",
   "execution_count": 149,
   "id": "9c88a892-aef5-404b-aad5-1584ffd8a5ff",
   "metadata": {},
   "outputs": [],
   "source": [
    "kaggle_data[features] = ss.transform(kaggle_data[features])"
   ]
  },
  {
   "cell_type": "code",
   "execution_count": 150,
   "id": "1a14f491-3e2b-4118-a6da-ea0fe73037fc",
   "metadata": {},
   "outputs": [
    {
     "data": {
      "text/plain": [
       "Index(['Overall Qual', 'Gr Liv Area', 'Garage Area', 'Garage Cars',\n",
       "       'Total Bsmt SF', '1st Flr SF', 'Year Built', 'Year Remod/Add',\n",
       "       'Full Bath', 'Garage Yr Blt', 'TotRms AbvGrd', 'Mas Vnr Area',\n",
       "       'Fireplaces', 'BsmtFin SF 1', 'Wood Deck SF', 'Open Porch SF',\n",
       "       'After 2000', 'Exter Qual', 'Overall Qual',\n",
       "       'Gr Liv Area Times Garage Area', 'Kitchen Qual_Ex', 'Kitchen Qual_Fa',\n",
       "       'Kitchen Qual_Gd', 'Kitchen Qual_TA', 'Total Bsmt SF Times 1st Flr SF',\n",
       "       'Heating QC_Ex', 'Heating QC_Fa', 'Heating QC_Gd', 'Heating QC_TA',\n",
       "       '1st Flr SF Times 2nd Flr SF', 'Neighborhood_NridgHt',\n",
       "       'Neighborhood_Timber', 'Bsmt Full Bath', 'Neighborhood_StoneBr',\n",
       "       'Neighborhood_Somerst', 'Neighborhood_NoRidge', 'Not Kitchen Qual_TA',\n",
       "       'Not Heating QC_TA', 'Not Neighborhood_OldTown', 'Not Heating QC_Gd',\n",
       "       'Not Kitchen Qual_Fa'],\n",
       "      dtype='object')"
      ]
     },
     "execution_count": 150,
     "metadata": {},
     "output_type": "execute_result"
    }
   ],
   "source": [
    "kaggle_data[features].columns"
   ]
  },
  {
   "cell_type": "code",
   "execution_count": 151,
   "id": "eba22501-beb2-4fa5-96e6-466dc7632335",
   "metadata": {},
   "outputs": [
    {
     "data": {
      "text/plain": [
       "(878, 41)"
      ]
     },
     "execution_count": 151,
     "metadata": {},
     "output_type": "execute_result"
    }
   ],
   "source": [
    "kaggle_data[features].shape"
   ]
  },
  {
   "cell_type": "code",
   "execution_count": 152,
   "id": "2951f621-8edd-41e2-b840-5f84d28871af",
   "metadata": {},
   "outputs": [],
   "source": [
    "# Ignore following warning we have verified there are no conflicts"
   ]
  },
  {
   "cell_type": "code",
   "execution_count": 153,
   "id": "e11e7e77-dfa9-436c-a653-a9b58ef73e79",
   "metadata": {},
   "outputs": [
    {
     "name": "stderr",
     "output_type": "stream",
     "text": [
      "/Users/ben/anaconda3/lib/python3.11/site-packages/sklearn/base.py:458: UserWarning: X has feature names, but PolynomialFeatures was fitted without feature names\n",
      "  warnings.warn(\n"
     ]
    }
   ],
   "source": [
    "# Transform test kaggle data\n",
    "X_transformed = poly.transform(kaggle_data[features])  # X is your input data"
   ]
  },
  {
   "cell_type": "code",
   "execution_count": 154,
   "id": "bafc3ca3-fad3-4031-8fe8-4e995bcfa6b0",
   "metadata": {},
   "outputs": [
    {
     "data": {
      "text/plain": [
       "(878, 902)"
      ]
     },
     "execution_count": 154,
     "metadata": {},
     "output_type": "execute_result"
    }
   ],
   "source": [
    "X_transformed.shape"
   ]
  },
  {
   "cell_type": "code",
   "execution_count": 155,
   "id": "a6bd3f76-04ca-485d-bdd1-b7b4593c3dcf",
   "metadata": {},
   "outputs": [
    {
     "data": {
      "text/plain": [
       "Index(['Id', 'PID', 'MS SubClass', 'MS Zoning', 'Lot Frontage', 'Lot Area',\n",
       "       'Street', 'Alley', 'Lot Shape', 'Land Contour',\n",
       "       ...\n",
       "       'Total Bsmt SF Times 1st Flr SF', 'Gr Liv Area Times Garage Area',\n",
       "       '1st Flr SF Times 2nd Flr SF', 'Wood Deck SF Times Open Porch SF',\n",
       "       'Quality Factor', 'Not Kitchen Qual_TA', 'Not Kitchen Qual_Fa',\n",
       "       'Not Heating QC_TA', 'Not Heating QC_Gd', 'Not Neighborhood_OldTown'],\n",
       "      dtype='object', length=143)"
      ]
     },
     "execution_count": 155,
     "metadata": {},
     "output_type": "execute_result"
    }
   ],
   "source": [
    "kaggle_data.columns"
   ]
  },
  {
   "cell_type": "code",
   "execution_count": 156,
   "id": "402b4e8a-d606-4a3b-88ad-33e21813488a",
   "metadata": {},
   "outputs": [],
   "source": [
    "new_frame_to_pred = pd.DataFrame(X_transformed, columns=poly.get_feature_names_out(features))\n",
    "new_frame_to_pred;"
   ]
  },
  {
   "cell_type": "markdown",
   "id": "c695e596-f90a-4b47-9edb-905df1f3b9ff",
   "metadata": {},
   "source": [
    "# Only Run the Following Cell When You Are Ready to Export!"
   ]
  },
  {
   "cell_type": "markdown",
   "id": "cfd5996d-6309-40ca-9853-7a8ff4829bd5",
   "metadata": {},
   "source": [
    "Again, we ignore the warning as it turns out the problem has been \n",
    "resolved via indexing methods to confirm columns have been read in correctly. "
   ]
  },
  {
   "cell_type": "code",
   "execution_count": 157,
   "id": "1eb12f37-a578-42c8-9161-6b5694caf1a3",
   "metadata": {},
   "outputs": [
    {
     "name": "stderr",
     "output_type": "stream",
     "text": [
      "/Users/ben/anaconda3/lib/python3.11/site-packages/sklearn/base.py:458: UserWarning: X has feature names, but LassoCV was fitted without feature names\n",
      "  warnings.warn(\n"
     ]
    }
   ],
   "source": [
    "# #Only uncomment to create file - currently needs renaming\n",
    "# submission = pd.DataFrame({'id': kaggle_data['Id']})\n",
    "# submission['SalePrice'] = lasso_model.predict(new_frame_to_pred)\n",
    "\n",
    "# submission.to_csv('../datasets/solidifypipetest_no0fill_median_1115.csv', index=False)"
   ]
  }
 ],
 "metadata": {
  "kernelspec": {
   "display_name": "Python 3 (ipykernel)",
   "language": "python",
   "name": "python3"
  },
  "language_info": {
   "codemirror_mode": {
    "name": "ipython",
    "version": 3
   },
   "file_extension": ".py",
   "mimetype": "text/x-python",
   "name": "python",
   "nbconvert_exporter": "python",
   "pygments_lexer": "ipython3",
   "version": "3.11.5"
  }
 },
 "nbformat": 4,
 "nbformat_minor": 5
}
